{
 "cells":[
  {
   "cell_type":"markdown",
   "source":[
    "# Artificial Intelligence and Human Enhancement Public Opinion\n",
    "## Introduction\n",
    "Artificial intelligence is no longer science fiction. From language learning models to machine learning algorithms, these tools are increasingly being used in our daily lives. As we become more familiar with them, the question arises: will we move from enhancing our gadgets to enhancing our own physical bodies?\n",
    "\n",
    "This short case study aims to explore public opinion on the use of AI for human enhancement. Specifically, we will investigate attitudes towards microchip implants in the brain, which have been proposed as a way to enhance cognitive abilities such as information processing speed and accuracy.\n",
    "\n",
    "To achieve this objective, we will analyze a dataset obtained from the Pew Research Center, which surveyed a representative sample of U.S. adults between November 1, 2021, and November 7, 2021. We will focus on several columns within the dataset that relate to attitudes towards microchip implants.\n",
    "\n",
    "The analysis will provide insights into the general sentiment towards this technology and shed light on several key questions, such as whether people would personally want to have a chip implant, how they would feel about its widespread use, and whether they believe it would have positive or negative effects on decision-making and judgment.\n",
    "\n",
    "By better understanding public opinion on AI and human enhancement, we can inform ethical and policy debates about the use of these technologies and their potential impact on society.\n",
    "\n",
    "### Data Dictionary\n",
    "Participants were asked a range of questions and responded using either open-ended text boxes or numbers. Each column header corresponds to a question key and each answer corresponds to an answer key. The questions to be analyzed are as follows:\n",
    "- BCHIP2: Do you think widespread use of computer chip implants in the brain allowing people to far more quickly and accurately process information would be a…\n",
    "- BCHIP3: Would you personally want a computer chip implant in the brain, allowing you to far more quickly and accurately process information, if you had the opportunity?\n",
    "- BCHIP4: If the use of computer chip implants in the brain becomes widespread, allowing people to far more quickly and accurately process information, do you think each of the following would happen?\n",
    "- BCHIP5: If the use of computer chip implants in the brain becomes widespread, allowing people to far more quickly and accurately process information, which statement better describes how you would feel about this development?\n",
    "- BCHIP7: If the use of computer chip implants in the brain becomes widespread, allowing people to far more quickly and accurately process information, do you think people’s judgments and decision-making would be…\n",
    "- BCHIP8: If the use of computer chip implants in the brain becomes widespread, allowing people to far more quickly and accurately process information, do you think it would…\n",
    "- BCHIP13: Would the use of computer chip implants in the brain be more acceptable, less acceptable or would it make no difference in each of the following circumstances?\n",
    "- BCHIP14: Computer chip implants in the brain could be used for a number of purposes. Would you favor or oppose the use of computer chips implants in the brain for each of the following purposes?"
   ],
   "attachments":{
    
   },
   "metadata":{
    "datalore":{
     "node_id":"U0ST1yOQU9VSKHHafx6xKK",
     "type":"MD",
     "hide_input_from_viewers":true,
     "hide_output_from_viewers":true
    }
   }
  },
  {
   "cell_type":"markdown",
   "source":[
    "## Data Cleaning and Preparation"
   ],
   "attachments":{
    
   },
   "metadata":{
    "datalore":{
     "node_id":"ZN27M6dG1F6QYoqZo70Jgk",
     "type":"MD",
     "hide_input_from_viewers":true,
     "hide_output_from_viewers":true
    }
   }
  },
  {
   "cell_type":"code",
   "source":[
    "# Necessary imports\n",
    "import pandas as pd\n",
    "import matplotlib.pyplot as plt\n",
    "import seaborn as sns\n",
    "import numpy as np\n",
    "\n",
    "# Setting seaborn styles.\n",
    "sns.set_palette('colorblind')\n",
    "sns.set_style('white')\n",
    "sns.set(rc={\"figure.figsize\":(15, 13)})"
   ],
   "execution_count":1,
   "outputs":[
    
   ],
   "metadata":{
    "datalore":{
     "node_id":"KeHixnejJcZ43KOwfVVhSE",
     "type":"CODE",
     "hide_input_from_viewers":true,
     "hide_output_from_viewers":true
    }
   }
  },
  {
   "cell_type":"code",
   "source":[
    "# Import the .csv and transform it into a pandas dataframe.\n",
    "atp_df = pd.read_csv('ATP.csv')\n",
    "atp_df.head(5)"
   ],
   "execution_count":2,
   "outputs":[
    {
     "data":{
      "text\/html":[
       "<div>\n",
       "<style scoped>\n",
       "    .dataframe tbody tr th:only-of-type {\n",
       "        vertical-align: middle;\n",
       "    }\n",
       "\n",
       "    .dataframe tbody tr th {\n",
       "        vertical-align: top;\n",
       "    }\n",
       "\n",
       "    .dataframe thead th {\n",
       "        text-align: right;\n",
       "    }\n",
       "<\/style>\n",
       "<table border=\"1\" class=\"dataframe\">\n",
       "  <thead>\n",
       "    <tr style=\"text-align: right;\">\n",
       "      <th><\/th>\n",
       "      <th>QKEY<\/th>\n",
       "      <th>INTERVIEW_START_W99<\/th>\n",
       "      <th>INTERVIEW_END_W99<\/th>\n",
       "      <th>DEVICE_TYPE_W99<\/th>\n",
       "      <th>LANG_W99<\/th>\n",
       "      <th>FORM_W99<\/th>\n",
       "      <th>XTABLET_W99<\/th>\n",
       "      <th>TECH1_W99<\/th>\n",
       "      <th>SC1_W99<\/th>\n",
       "      <th>CNCEXC_W99<\/th>\n",
       "      <th>...<\/th>\n",
       "      <th>F_PARTYLN_FINAL<\/th>\n",
       "      <th>F_PARTYSUM_FINAL<\/th>\n",
       "      <th>F_PARTYSUMIDEO_FINAL<\/th>\n",
       "      <th>F_INC_SDT1<\/th>\n",
       "      <th>F_REG<\/th>\n",
       "      <th>F_IDEO<\/th>\n",
       "      <th>F_INTFREQ<\/th>\n",
       "      <th>F_VOLSUM<\/th>\n",
       "      <th>F_INC_TIER2<\/th>\n",
       "      <th>WEIGHT_W99<\/th>\n",
       "    <\/tr>\n",
       "  <\/thead>\n",
       "  <tbody>\n",
       "    <tr>\n",
       "      <th>0<\/th>\n",
       "      <td>100260<\/td>\n",
       "      <td>2021-11-03T14:25:27Z<\/td>\n",
       "      <td>2021-11-03T14:45:34Z<\/td>\n",
       "      <td>1<\/td>\n",
       "      <td>1<\/td>\n",
       "      <td>2<\/td>\n",
       "      <td>2<\/td>\n",
       "      <td>NaN<\/td>\n",
       "      <td>1.0<\/td>\n",
       "      <td>3<\/td>\n",
       "      <td>...<\/td>\n",
       "      <td>NaN<\/td>\n",
       "      <td>1<\/td>\n",
       "      <td>1<\/td>\n",
       "      <td>4<\/td>\n",
       "      <td>1.0<\/td>\n",
       "      <td>1<\/td>\n",
       "      <td>2.0<\/td>\n",
       "      <td>2<\/td>\n",
       "      <td>2<\/td>\n",
       "      <td>0.206396<\/td>\n",
       "    <\/tr>\n",
       "    <tr>\n",
       "      <th>1<\/th>\n",
       "      <td>100314<\/td>\n",
       "      <td>2021-11-04T12:35:35Z<\/td>\n",
       "      <td>2021-11-04T12:55:29Z<\/td>\n",
       "      <td>2<\/td>\n",
       "      <td>1<\/td>\n",
       "      <td>1<\/td>\n",
       "      <td>2<\/td>\n",
       "      <td>1.0<\/td>\n",
       "      <td>NaN<\/td>\n",
       "      <td>1<\/td>\n",
       "      <td>...<\/td>\n",
       "      <td>NaN<\/td>\n",
       "      <td>1<\/td>\n",
       "      <td>2<\/td>\n",
       "      <td>3<\/td>\n",
       "      <td>1.0<\/td>\n",
       "      <td>4<\/td>\n",
       "      <td>2.0<\/td>\n",
       "      <td>1<\/td>\n",
       "      <td>2<\/td>\n",
       "      <td>0.315090<\/td>\n",
       "    <\/tr>\n",
       "    <tr>\n",
       "      <th>2<\/th>\n",
       "      <td>100363<\/td>\n",
       "      <td>2021-11-03T20:23:43Z<\/td>\n",
       "      <td>2021-11-03T20:36:24Z<\/td>\n",
       "      <td>2<\/td>\n",
       "      <td>1<\/td>\n",
       "      <td>1<\/td>\n",
       "      <td>2<\/td>\n",
       "      <td>1.0<\/td>\n",
       "      <td>NaN<\/td>\n",
       "      <td>3<\/td>\n",
       "      <td>...<\/td>\n",
       "      <td>NaN<\/td>\n",
       "      <td>2<\/td>\n",
       "      <td>3<\/td>\n",
       "      <td>9<\/td>\n",
       "      <td>1.0<\/td>\n",
       "      <td>3<\/td>\n",
       "      <td>2.0<\/td>\n",
       "      <td>2<\/td>\n",
       "      <td>3<\/td>\n",
       "      <td>0.829579<\/td>\n",
       "    <\/tr>\n",
       "    <tr>\n",
       "      <th>3<\/th>\n",
       "      <td>100598<\/td>\n",
       "      <td>2021-11-02T13:01:05Z<\/td>\n",
       "      <td>2021-11-04T12:37:42Z<\/td>\n",
       "      <td>1<\/td>\n",
       "      <td>1<\/td>\n",
       "      <td>2<\/td>\n",
       "      <td>2<\/td>\n",
       "      <td>NaN<\/td>\n",
       "      <td>1.0<\/td>\n",
       "      <td>3<\/td>\n",
       "      <td>...<\/td>\n",
       "      <td>NaN<\/td>\n",
       "      <td>1<\/td>\n",
       "      <td>1<\/td>\n",
       "      <td>9<\/td>\n",
       "      <td>1.0<\/td>\n",
       "      <td>2<\/td>\n",
       "      <td>2.0<\/td>\n",
       "      <td>1<\/td>\n",
       "      <td>3<\/td>\n",
       "      <td>0.337527<\/td>\n",
       "    <\/tr>\n",
       "    <tr>\n",
       "      <th>4<\/th>\n",
       "      <td>100637<\/td>\n",
       "      <td>2021-11-02T12:32:58Z<\/td>\n",
       "      <td>2021-11-02T12:46:23Z<\/td>\n",
       "      <td>1<\/td>\n",
       "      <td>1<\/td>\n",
       "      <td>2<\/td>\n",
       "      <td>2<\/td>\n",
       "      <td>NaN<\/td>\n",
       "      <td>3.0<\/td>\n",
       "      <td>3<\/td>\n",
       "      <td>...<\/td>\n",
       "      <td>1.0<\/td>\n",
       "      <td>1<\/td>\n",
       "      <td>1<\/td>\n",
       "      <td>2<\/td>\n",
       "      <td>1.0<\/td>\n",
       "      <td>1<\/td>\n",
       "      <td>5.0<\/td>\n",
       "      <td>2<\/td>\n",
       "      <td>1<\/td>\n",
       "      <td>1.210606<\/td>\n",
       "    <\/tr>\n",
       "  <\/tbody>\n",
       "<\/table>\n",
       "<p>5 rows × 214 columns<\/p>\n",
       "<\/div>"
      ]
     },
     "metadata":{
      
     },
     "output_type":"display_data"
    }
   ],
   "metadata":{
    "datalore":{
     "node_id":"CSMreXa3nahQ04dMTDw0aN",
     "type":"CODE",
     "hide_input_from_viewers":true,
     "hide_output_from_viewers":true
    }
   }
  },
  {
   "cell_type":"code",
   "source":[
    "# Summary statistics\n",
    "atp_df.describe()"
   ],
   "execution_count":3,
   "outputs":[
    {
     "data":{
      "text\/html":[
       "<div>\n",
       "<style scoped>\n",
       "    .dataframe tbody tr th:only-of-type {\n",
       "        vertical-align: middle;\n",
       "    }\n",
       "\n",
       "    .dataframe tbody tr th {\n",
       "        vertical-align: top;\n",
       "    }\n",
       "\n",
       "    .dataframe thead th {\n",
       "        text-align: right;\n",
       "    }\n",
       "<\/style>\n",
       "<table border=\"1\" class=\"dataframe\">\n",
       "  <thead>\n",
       "    <tr style=\"text-align: right;\">\n",
       "      <th><\/th>\n",
       "      <th>QKEY<\/th>\n",
       "      <th>DEVICE_TYPE_W99<\/th>\n",
       "      <th>LANG_W99<\/th>\n",
       "      <th>FORM_W99<\/th>\n",
       "      <th>XTABLET_W99<\/th>\n",
       "      <th>TECH1_W99<\/th>\n",
       "      <th>SC1_W99<\/th>\n",
       "      <th>CNCEXC_W99<\/th>\n",
       "      <th>EXCITEOE_W99_OE1<\/th>\n",
       "      <th>EXCITEOE_W99_OE2<\/th>\n",
       "      <th>...<\/th>\n",
       "      <th>F_PARTYLN_FINAL<\/th>\n",
       "      <th>F_PARTYSUM_FINAL<\/th>\n",
       "      <th>F_PARTYSUMIDEO_FINAL<\/th>\n",
       "      <th>F_INC_SDT1<\/th>\n",
       "      <th>F_REG<\/th>\n",
       "      <th>F_IDEO<\/th>\n",
       "      <th>F_INTFREQ<\/th>\n",
       "      <th>F_VOLSUM<\/th>\n",
       "      <th>F_INC_TIER2<\/th>\n",
       "      <th>WEIGHT_W99<\/th>\n",
       "    <\/tr>\n",
       "  <\/thead>\n",
       "  <tbody>\n",
       "    <tr>\n",
       "      <th>count<\/th>\n",
       "      <td>1.026000e+04<\/td>\n",
       "      <td>10260.000000<\/td>\n",
       "      <td>10260.000000<\/td>\n",
       "      <td>10260.000000<\/td>\n",
       "      <td>10260.000000<\/td>\n",
       "      <td>5153.000000<\/td>\n",
       "      <td>5107.000000<\/td>\n",
       "      <td>10260.000000<\/td>\n",
       "      <td>1853.000000<\/td>\n",
       "      <td>337.000000<\/td>\n",
       "      <td>...<\/td>\n",
       "      <td>3755.000000<\/td>\n",
       "      <td>10260.000000<\/td>\n",
       "      <td>10260.000000<\/td>\n",
       "      <td>10260.000000<\/td>\n",
       "      <td>9864.000000<\/td>\n",
       "      <td>10260.000000<\/td>\n",
       "      <td>10087.000000<\/td>\n",
       "      <td>10260.000000<\/td>\n",
       "      <td>10260.000000<\/td>\n",
       "      <td>10260.000000<\/td>\n",
       "    <\/tr>\n",
       "    <tr>\n",
       "      <th>mean<\/th>\n",
       "      <td>1.734117e+11<\/td>\n",
       "      <td>1.649220<\/td>\n",
       "      <td>1.045029<\/td>\n",
       "      <td>1.497758<\/td>\n",
       "      <td>1.983138<\/td>\n",
       "      <td>2.035901<\/td>\n",
       "      <td>1.876052<\/td>\n",
       "      <td>2.617251<\/td>\n",
       "      <td>24.484620<\/td>\n",
       "      <td>6.178042<\/td>\n",
       "      <td>...<\/td>\n",
       "      <td>7.980826<\/td>\n",
       "      <td>1.695322<\/td>\n",
       "      <td>2.638889<\/td>\n",
       "      <td>9.592982<\/td>\n",
       "      <td>1.393958<\/td>\n",
       "      <td>4.416959<\/td>\n",
       "      <td>1.801527<\/td>\n",
       "      <td>1.763353<\/td>\n",
       "      <td>7.180409<\/td>\n",
       "      <td>1.000000<\/td>\n",
       "    <\/tr>\n",
       "    <tr>\n",
       "      <th>std<\/th>\n",
       "      <td>7.021371e+10<\/td>\n",
       "      <td>0.548153<\/td>\n",
       "      <td>0.207378<\/td>\n",
       "      <td>0.500019<\/td>\n",
       "      <td>0.128759<\/td>\n",
       "      <td>3.938787<\/td>\n",
       "      <td>5.995143<\/td>\n",
       "      <td>5.846544<\/td>\n",
       "      <td>38.771251<\/td>\n",
       "      <td>3.404880<\/td>\n",
       "      <td>...<\/td>\n",
       "      <td>24.264452<\/td>\n",
       "      <td>1.253422<\/td>\n",
       "      <td>1.667072<\/td>\n",
       "      <td>19.754745<\/td>\n",
       "      <td>4.747600<\/td>\n",
       "      <td>12.140269<\/td>\n",
       "      <td>3.444853<\/td>\n",
       "      <td>3.496638<\/td>\n",
       "      <td>21.759111<\/td>\n",
       "      <td>1.303703<\/td>\n",
       "    <\/tr>\n",
       "    <tr>\n",
       "      <th>min<\/th>\n",
       "      <td>1.002600e+05<\/td>\n",
       "      <td>1.000000<\/td>\n",
       "      <td>1.000000<\/td>\n",
       "      <td>1.000000<\/td>\n",
       "      <td>1.000000<\/td>\n",
       "      <td>1.000000<\/td>\n",
       "      <td>1.000000<\/td>\n",
       "      <td>1.000000<\/td>\n",
       "      <td>1.000000<\/td>\n",
       "      <td>1.000000<\/td>\n",
       "      <td>...<\/td>\n",
       "      <td>1.000000<\/td>\n",
       "      <td>1.000000<\/td>\n",
       "      <td>1.000000<\/td>\n",
       "      <td>1.000000<\/td>\n",
       "      <td>1.000000<\/td>\n",
       "      <td>1.000000<\/td>\n",
       "      <td>1.000000<\/td>\n",
       "      <td>1.000000<\/td>\n",
       "      <td>1.000000<\/td>\n",
       "      <td>0.004226<\/td>\n",
       "    <\/tr>\n",
       "    <tr>\n",
       "      <th>25%<\/th>\n",
       "      <td>2.017017e+11<\/td>\n",
       "      <td>1.000000<\/td>\n",
       "      <td>1.000000<\/td>\n",
       "      <td>1.000000<\/td>\n",
       "      <td>2.000000<\/td>\n",
       "      <td>1.000000<\/td>\n",
       "      <td>1.000000<\/td>\n",
       "      <td>2.000000<\/td>\n",
       "      <td>1.000000<\/td>\n",
       "      <td>3.000000<\/td>\n",
       "      <td>...<\/td>\n",
       "      <td>1.000000<\/td>\n",
       "      <td>1.000000<\/td>\n",
       "      <td>1.000000<\/td>\n",
       "      <td>2.000000<\/td>\n",
       "      <td>1.000000<\/td>\n",
       "      <td>2.000000<\/td>\n",
       "      <td>1.000000<\/td>\n",
       "      <td>1.000000<\/td>\n",
       "      <td>2.000000<\/td>\n",
       "      <td>0.377472<\/td>\n",
       "    <\/tr>\n",
       "    <tr>\n",
       "      <th>50%<\/th>\n",
       "      <td>2.018011e+11<\/td>\n",
       "      <td>2.000000<\/td>\n",
       "      <td>1.000000<\/td>\n",
       "      <td>1.000000<\/td>\n",
       "      <td>2.000000<\/td>\n",
       "      <td>1.000000<\/td>\n",
       "      <td>1.000000<\/td>\n",
       "      <td>2.000000<\/td>\n",
       "      <td>6.000000<\/td>\n",
       "      <td>7.000000<\/td>\n",
       "      <td>...<\/td>\n",
       "      <td>2.000000<\/td>\n",
       "      <td>2.000000<\/td>\n",
       "      <td>3.000000<\/td>\n",
       "      <td>6.000000<\/td>\n",
       "      <td>1.000000<\/td>\n",
       "      <td>3.000000<\/td>\n",
       "      <td>2.000000<\/td>\n",
       "      <td>2.000000<\/td>\n",
       "      <td>2.000000<\/td>\n",
       "      <td>0.598619<\/td>\n",
       "    <\/tr>\n",
       "    <tr>\n",
       "      <th>75%<\/th>\n",
       "      <td>2.019010e+11<\/td>\n",
       "      <td>2.000000<\/td>\n",
       "      <td>1.000000<\/td>\n",
       "      <td>2.000000<\/td>\n",
       "      <td>2.000000<\/td>\n",
       "      <td>3.000000<\/td>\n",
       "      <td>2.000000<\/td>\n",
       "      <td>3.000000<\/td>\n",
       "      <td>10.000000<\/td>\n",
       "      <td>9.000000<\/td>\n",
       "      <td>...<\/td>\n",
       "      <td>2.000000<\/td>\n",
       "      <td>2.000000<\/td>\n",
       "      <td>4.000000<\/td>\n",
       "      <td>9.000000<\/td>\n",
       "      <td>1.000000<\/td>\n",
       "      <td>4.000000<\/td>\n",
       "      <td>2.000000<\/td>\n",
       "      <td>2.000000<\/td>\n",
       "      <td>3.000000<\/td>\n",
       "      <td>1.022797<\/td>\n",
       "    <\/tr>\n",
       "    <tr>\n",
       "      <th>max<\/th>\n",
       "      <td>2.021010e+11<\/td>\n",
       "      <td>3.000000<\/td>\n",
       "      <td>2.000000<\/td>\n",
       "      <td>2.000000<\/td>\n",
       "      <td>2.000000<\/td>\n",
       "      <td>99.000000<\/td>\n",
       "      <td>99.000000<\/td>\n",
       "      <td>99.000000<\/td>\n",
       "      <td>99.000000<\/td>\n",
       "      <td>11.000000<\/td>\n",
       "      <td>...<\/td>\n",
       "      <td>99.000000<\/td>\n",
       "      <td>9.000000<\/td>\n",
       "      <td>9.000000<\/td>\n",
       "      <td>99.000000<\/td>\n",
       "      <td>99.000000<\/td>\n",
       "      <td>99.000000<\/td>\n",
       "      <td>99.000000<\/td>\n",
       "      <td>99.000000<\/td>\n",
       "      <td>99.000000<\/td>\n",
       "      <td>8.524234<\/td>\n",
       "    <\/tr>\n",
       "  <\/tbody>\n",
       "<\/table>\n",
       "<p>8 rows × 212 columns<\/p>\n",
       "<\/div>"
      ]
     },
     "metadata":{
      
     },
     "output_type":"display_data"
    }
   ],
   "metadata":{
    "datalore":{
     "node_id":"SU1CKzVKRgQVh7Jx9GxFZ5",
     "type":"CODE",
     "hide_input_from_viewers":true,
     "hide_output_from_viewers":true
    }
   }
  },
  {
   "cell_type":"markdown",
   "source":[
    "### Interpretations\n",
    "- As stated in the data dictionary, specific answers led to specific questions, such as a yes to a question may lead to a question about the yes answer. As a result, some questions have null values.\n",
    "- Although most questions only have a max number of 3, the max number in some of the columns is 99."
   ],
   "attachments":{
    
   },
   "metadata":{
    "datalore":{
     "node_id":"Jvx6EfBIL8AJOohQPluzUF",
     "type":"MD",
     "hide_input_from_viewers":true,
     "hide_output_from_viewers":true
    }
   }
  },
  {
   "cell_type":"code",
   "source":[
    "# Getting a count of the highest values for each column.\n",
    "for column in atp_df.columns:\n",
    "    max_value = atp_df[column].max()\n",
    "    count_max = (atp_df[column] == max_value).sum()\n",
    "    print(f'{column} max value is {max_value} and appears {count_max} times.')"
   ],
   "execution_count":4,
   "outputs":[
    {
     "name":"stdout",
     "text":[
      "QKEY max value is 202101013477 and appears 1 times.\n",
      "INTERVIEW_START_W99 max value is 2021-11-07T23:23:15Z and appears 1 times.\n",
      "INTERVIEW_END_W99 max value is 2021-11-07T23:56:17Z and appears 1 times.\n",
      "DEVICE_TYPE_W99 max value is 3 and appears 373 times.\n",
      "LANG_W99 max value is 2 and appears 462 times.\n",
      "FORM_W99 max value is 2 and appears 5107 times.\n",
      "XTABLET_W99 max value is 2 and appears 10087 times.\n",
      "TECH1_W99 max value is 99.0 and appears 8 times.\n",
      "SC1_W99 max value is 99.0 and appears 19 times.\n",
      "CNCEXC_W99 max value is 99 and appears 37 times.\n",
      "EXCITEOE_W99_OE1 max value is 99.0 and appears 287 times.\n",
      "EXCITEOE_W99_OE2 max value is 11.0 and appears 15 times.\n",
      "EXCITEOE_W99_OE3 max value is 11.0 and appears 3 times.\n",
      "EXCITEOE_REFUSED_W99 max value is 99 and appears 278 times.\n",
      "CONCERNOE_W99_OE1 max value is 99.0 and appears 491 times.\n",
      "CONCERNOE_W99_OE2 max value is 13.0 and appears 26 times.\n",
      "CONCERNOE_W99_OE3 max value is 13.0 and appears 4 times.\n",
      "CONCERNOE_REFUSED_W99 max value is 99 and appears 473 times.\n",
      "ALGFAIR_W99 max value is 99 and appears 80 times.\n",
      "DISCRIM1_a_W99 max value is 99 and appears 75 times.\n",
      "DISCRIM1_b_W99 max value is 99 and appears 76 times.\n",
      "DISCRIM1_c_W99 max value is 99 and appears 82 times.\n",
      "DISCRIM1_d_W99 max value is 99 and appears 74 times.\n",
      "DISCRIM1_e_W99 max value is 99 and appears 53 times.\n",
      "DISCRIM1_f_W99 max value is 99 and appears 58 times.\n",
      "POSNEGAI_a_W99 max value is 99 and appears 41 times.\n",
      "POSNEGAI_b_W99 max value is 99 and appears 66 times.\n",
      "POSNEGAI_c_W99 max value is 99 and appears 33 times.\n",
      "POSNEGAI_d_W99 max value is 99 and appears 36 times.\n",
      "POSNEGAI_e_W99 max value is 99 and appears 53 times.\n",
      "POSNEGAI_f_W99 max value is 99 and appears 42 times.\n",
      "POSNEGHE_a_W99 max value is 99 and appears 54 times.\n",
      "POSNEGHE_b_W99 max value is 99 and appears 51 times.\n",
      "POSNEGHE_c_W99 max value is 99 and appears 41 times.\n",
      "POSNEGHE_d_W99 max value is 99 and appears 66 times.\n",
      "POSNEGHE_e_W99 max value is 99 and appears 99 times.\n",
      "POSNEGHE_f_W99 max value is 99 and appears 49 times.\n",
      "SMALG1_W99 max value is 99.0 and appears 16 times.\n",
      "SMALG2_W99 max value is 99.0 and appears 16 times.\n",
      "SMALG3_W99 max value is 99.0 and appears 39 times.\n",
      "SMALG4_a_W99 max value is 99.0 and appears 71 times.\n",
      "SMALG4_b_W99 max value is 99.0 and appears 57 times.\n",
      "SMALG4_c_W99 max value is 99.0 and appears 60 times.\n",
      "SMALG4_d_W99 max value is 99.0 and appears 83 times.\n",
      "SMALG5_W99 max value is 99.0 and appears 15 times.\n",
      "SMALG6_W99 max value is 99.0 and appears 134 times.\n",
      "SMALG7_W99 max value is 99.0 and appears 32 times.\n",
      "SMALG8_W99 max value is 99.0 and appears 132 times.\n",
      "SMALG9_a_W99 max value is 99.0 and appears 54 times.\n",
      "SMALG9_b_W99 max value is 99.0 and appears 54 times.\n",
      "SMALG9_c_W99 max value is 99.0 and appears 57 times.\n",
      "SMALG10_a_W99 max value is 99.0 and appears 59 times.\n",
      "SMALG10_b_W99 max value is 99.0 and appears 50 times.\n",
      "SMALG10_c_W99 max value is 99.0 and appears 48 times.\n",
      "SMALG11_W99 max value is 99.0 and appears 47 times.\n",
      "SMALG12_W99 max value is 99.0 and appears 90 times.\n",
      "SMALG13_a_W99 max value is 99.0 and appears 27 times.\n",
      "SMALG13_b_W99 max value is 99.0 and appears 20 times.\n",
      "SMALG13_c_W99 max value is 99.0 and appears 24 times.\n",
      "SMALG13_d_W99 max value is 99.0 and appears 26 times.\n",
      "FACEREC1_W99 max value is 99.0 and appears 7 times.\n",
      "FACEREC2_W99 max value is 99.0 and appears 14 times.\n",
      "FACEREC3_a_W99 max value is 99.0 and appears 77 times.\n",
      "FACEREC3_b_W99 max value is 99.0 and appears 56 times.\n",
      "FACEREC3_c_W99 max value is 99.0 and appears 111 times.\n",
      "FACEREC3_d_W99 max value is 99.0 and appears 46 times.\n",
      "FACEREC3_e_W99 max value is 99.0 and appears 58 times.\n",
      "FACEREC3_f_W99 max value is 99.0 and appears 70 times.\n",
      "FACEREC4_W99 max value is 99.0 and appears 65 times.\n",
      "FACEREC5_W99 max value is 99.0 and appears 126 times.\n",
      "FACEREC6_a_W99 max value is 99.0 and appears 44 times.\n",
      "FACEREC6_b_W99 max value is 99.0 and appears 48 times.\n",
      "FACEREC6_c_W99 max value is 99.0 and appears 40 times.\n",
      "FACEREC6_d_W99 max value is 99.0 and appears 39 times.\n",
      "FACEREC7_W99 max value is 99.0 and appears 102 times.\n",
      "FACEREC8_a_W99 max value is 99.0 and appears 58 times.\n",
      "FACEREC8_b_W99 max value is 99.0 and appears 58 times.\n",
      "FACEREC8_c_W99 max value is 99.0 and appears 50 times.\n",
      "FACEREC9_W99 max value is 99.0 and appears 31 times.\n",
      "FACEREC10_W99 max value is 99.0 and appears 100 times.\n",
      "FACEREC11_a_W99 max value is 99.0 and appears 49 times.\n",
      "FACEREC11_b_W99 max value is 99.0 and appears 50 times.\n",
      "FACEREC11_c_W99 max value is 99.0 and appears 52 times.\n",
      "FACEREC12_a_W99 max value is 99.0 and appears 26 times.\n",
      "FACEREC12_b_W99 max value is 99.0 and appears 22 times.\n",
      "FACEREC12_c_W99 max value is 99.0 and appears 25 times.\n",
      "FACEREC12_d_W99 max value is 99.0 and appears 25 times.\n",
      "DCARS1_W99 max value is 99.0 and appears 9 times.\n",
      "DCARS2_W99 max value is 99.0 and appears 12 times.\n",
      "DCARS3_W99 max value is 99.0 and appears 44 times.\n",
      "DCARS4_a_W99 max value is 99.0 and appears 35 times.\n",
      "DCARS4_b_W99 max value is 99.0 and appears 22 times.\n",
      "DCARS4_c_W99 max value is 99.0 and appears 44 times.\n",
      "DCARS4_d_W99 max value is 99.0 and appears 44 times.\n",
      "DCARS5_W99 max value is 99.0 and appears 48 times.\n",
      "DCARS6_W99 max value is 99.0 and appears 124 times.\n",
      "DCARS7_W99 max value is 99.0 and appears 65 times.\n",
      "DCARS8_a_W99 max value is 99.0 and appears 41 times.\n",
      "DCARS8_b_W99 max value is 99.0 and appears 38 times.\n",
      "DCARS8_c_W99 max value is 99.0 and appears 37 times.\n",
      "DCARS8_d_W99 max value is 99.0 and appears 42 times.\n",
      "DCARS9_W99 max value is 99.0 and appears 117 times.\n",
      "DCARS10_W99 max value is 99.0 and appears 36 times.\n",
      "DCARS11_a_W99 max value is 99.0 and appears 42 times.\n",
      "DCARS11_b_W99 max value is 99.0 and appears 39 times.\n",
      "DCARS11_c_W99 max value is 99.0 and appears 32 times.\n",
      "DCARS11_d_W99 max value is 99.0 and appears 35 times.\n",
      "DCARS12_W99 max value is 99.0 and appears 18 times.\n",
      "DCARS13_a_W99 max value is 99.0 and appears 21 times.\n",
      "DCARS13_b_W99 max value is 99.0 and appears 15 times.\n",
      "DCARS13_c_W99 max value is 99.0 and appears 20 times.\n",
      "DCARS13_d_W99 max value is 99.0 and appears 21 times.\n",
      "BCHIP1_W99 max value is 99.0 and appears 15 times.\n",
      "BCHIP2_W99 max value is 99.0 and appears 29 times.\n",
      "BCHIP3_W99 max value is 99.0 and appears 67 times.\n",
      "BCHIP4_a_W99 max value is 99.0 and appears 133 times.\n",
      "BCHIP4_b_W99 max value is 99.0 and appears 74 times.\n",
      "BCHIP4_c_W99 max value is 99.0 and appears 134 times.\n",
      "BCHIP4_d_W99 max value is 99.0 and appears 97 times.\n",
      "BCHIP5_W99 max value is 99.0 and appears 76 times.\n",
      "BCHIP6_W99 max value is 99.0 and appears 111 times.\n",
      "BCHIP7_W99 max value is 99.0 and appears 144 times.\n",
      "BCHIP8_W99 max value is 99.0 and appears 118 times.\n",
      "BCHIP9_a_W99 max value is 99.0 and appears 98 times.\n",
      "BCHIP9_b_W99 max value is 99.0 and appears 79 times.\n",
      "BCHIP9_c_W99 max value is 99.0 and appears 93 times.\n",
      "BCHIP10_a_W99 max value is 99.0 and appears 84 times.\n",
      "BCHIP10_b_W99 max value is 99.0 and appears 83 times.\n",
      "BCHIP10_c_W99 max value is 99.0 and appears 87 times.\n",
      "BCHIP10_d_W99 max value is 99.0 and appears 80 times.\n",
      "BCHIP11_W99 max value is 99.0 and appears 112 times.\n",
      "BCHIP12_W99 max value is 99.0 and appears 139 times.\n",
      "BCHIP13_a_W99 max value is 99.0 and appears 84 times.\n",
      "BCHIP13_b_W99 max value is 99.0 and appears 85 times.\n",
      "BCHIP14_a_W99 max value is 99.0 and appears 49 times.\n",
      "BCHIP14_b_W99 max value is 99.0 and appears 45 times.\n",
      "BCHIP14_c_W99 max value is 99.0 and appears 54 times.\n",
      "BCHIP14_d_W99 max value is 99.0 and appears 51 times.\n",
      "GENEV1_W99 max value is 99.0 and appears 16 times.\n",
      "GENEV2_W99 max value is 99.0 and appears 27 times.\n",
      "GENEV3_W99 max value is 99.0 and appears 127 times.\n",
      "GENEV4_a_W99 max value is 99.0 and appears 78 times.\n",
      "GENEV4_b_W99 max value is 99.0 and appears 140 times.\n",
      "GENEV4_c_W99 max value is 99.0 and appears 130 times.\n",
      "GENEV4_d_W99 max value is 99.0 and appears 98 times.\n",
      "GENEV5_W99 max value is 99.0 and appears 96 times.\n",
      "GENEV6_W99 max value is 99.0 and appears 103 times.\n",
      "GENEV7_W99 max value is 99.0 and appears 153 times.\n",
      "GENEV8_W99 max value is 99.0 and appears 98 times.\n",
      "GENEV9_a_W99 max value is 99.0 and appears 100 times.\n",
      "GENEV9_b_W99 max value is 99.0 and appears 92 times.\n",
      "GENEV9_c_W99 max value is 99.0 and appears 99 times.\n",
      "GENEV9_d_W99 max value is 99.0 and appears 96 times.\n",
      "GENEV10_W99 max value is 99.0 and appears 115 times.\n",
      "GENEV11_W99 max value is 99.0 and appears 98 times.\n",
      "GENEV12_a_W99 max value is 99.0 and appears 124 times.\n",
      "GENEV12_b_W99 max value is 99.0 and appears 114 times.\n",
      "GENEV12_c_W99 max value is 99.0 and appears 106 times.\n",
      "GENEV13_a_W99 max value is 99.0 and appears 34 times.\n",
      "GENEV13_b_W99 max value is 99.0 and appears 34 times.\n",
      "EXOV1_W99 max value is 99.0 and appears 18 times.\n",
      "EXOV2_W99 max value is 99.0 and appears 18 times.\n",
      "EXOV3_W99 max value is 99.0 and appears 53 times.\n",
      "EXOV4_a_W99 max value is 99.0 and appears 58 times.\n",
      "EXOV4_b_W99 max value is 99.0 and appears 86 times.\n",
      "EXOV4_c_W99 max value is 99.0 and appears 79 times.\n",
      "EXOV4_d_W99 max value is 99.0 and appears 80 times.\n",
      "EXOV5_W99 max value is 99.0 and appears 103 times.\n",
      "EXOV6_W99 max value is 99.0 and appears 92 times.\n",
      "EXOV7_W99 max value is 99.0 and appears 64 times.\n",
      "EXOV8_a_W99 max value is 99.0 and appears 88 times.\n",
      "EXOV8_b_W99 max value is 99.0 and appears 87 times.\n",
      "EXOV8_c_W99 max value is 99.0 and appears 78 times.\n",
      "EXOV8_d_W99 max value is 99.0 and appears 85 times.\n",
      "EXOV9_W99 max value is 99.0 and appears 140 times.\n",
      "EXOV10_W99 max value is 99.0 and appears 105 times.\n",
      "EXOV11_a_W99 max value is 99.0 and appears 82 times.\n",
      "EXOV11_b_W99 max value is 99.0 and appears 72 times.\n",
      "EXOV12_a_W99 max value is 99.0 and appears 44 times.\n",
      "EXOV12_b_W99 max value is 99.0 and appears 47 times.\n",
      "EXOV12_c_W99 max value is 99.0 and appears 48 times.\n",
      "F_RELCOM3CAT max value is 99 and appears 76 times.\n",
      "F_METRO max value is 2 and appears 1240 times.\n",
      "F_CREGION max value is 4 and appears 2334 times.\n",
      "F_CDIVISION max value is 9 and appears 1477 times.\n",
      "F_AGECAT max value is 99 and appears 36 times.\n",
      "F_GENDER max value is 99 and appears 23 times.\n",
      "F_EDUCCAT max value is 99 and appears 32 times.\n",
      "F_EDUCCAT2 max value is 99 and appears 32 times.\n",
      "F_HISP max value is 99 and appears 32 times.\n",
      "F_HISP_ORIGIN max value is 99.0 and appears 17 times.\n",
      "F_YEARSINUS max value is 99 and appears 36 times.\n",
      "F_RACECMB max value is 99 and appears 201 times.\n",
      "F_RACETHNMOD max value is 99 and appears 144 times.\n",
      "F_CITIZEN max value is 99 and appears 19 times.\n",
      "F_BIRTHPLACE max value is 99 and appears 31 times.\n",
      "F_MARITAL max value is 99 and appears 38 times.\n",
      "F_RELIG max value is 99 and appears 55 times.\n",
      "F_BORN max value is 99.0 and appears 103 times.\n",
      "F_RELIGCAT1 max value is 99 and appears 55 times.\n",
      "F_ATTEND max value is 99 and appears 34 times.\n",
      "F_RELIMP max value is 99 and appears 31 times.\n",
      "F_PRAY max value is 99 and appears 38 times.\n",
      "F_PARTY_FINAL max value is 99 and appears 101 times.\n",
      "F_PARTYLN_FINAL max value is 99.0 and appears 249 times.\n",
      "F_PARTYSUM_FINAL max value is 9 and appears 249 times.\n",
      "F_PARTYSUMIDEO_FINAL max value is 9 and appears 340 times.\n",
      "F_INC_SDT1 max value is 99 and appears 467 times.\n",
      "F_REG max value is 99.0 and appears 23 times.\n",
      "F_IDEO max value is 99 and appears 165 times.\n",
      "F_INTFREQ max value is 99.0 and appears 12 times.\n",
      "F_VOLSUM max value is 99 and appears 13 times.\n",
      "F_INC_TIER2 max value is 99 and appears 545 times.\n",
      "WEIGHT_W99 max value is 8.524233927776187 and appears 1 times.\n"
     ],
     "output_type":"stream"
    }
   ],
   "metadata":{
    "datalore":{
     "node_id":"pRkpmvxKQ6x79fwv47bx3u",
     "type":"CODE",
     "hide_input_from_viewers":true,
     "hide_output_from_viewers":true
    }
   }
  },
  {
   "cell_type":"code",
   "source":[
    "# Getting all columns and sub-columns related to original columns.\n",
    "similar_cols = []\n",
    "col_names = ['BCHIP2', 'BCHIP3', 'BCHIP4', 'BCHIP5', 'BCHIP7', 'BCHIP8', 'BCHIP13', 'BCHIP14']\n",
    "\n",
    "for name in col_names:\n",
    "    for col in atp_df.columns:\n",
    "        if name in col:\n",
    "            similar_cols.append(col)"
   ],
   "execution_count":5,
   "outputs":[
    
   ],
   "metadata":{
    "datalore":{
     "node_id":"VuuqZCISyeiL6krpfiKVpa",
     "type":"CODE",
     "hide_input_from_viewers":true,
     "hide_output_from_viewers":true
    }
   }
  },
  {
   "cell_type":"code",
   "source":[
    "chips_df = atp_df[similar_cols]\n",
    "chips_df.head()"
   ],
   "execution_count":6,
   "outputs":[
    {
     "data":{
      "text\/html":[
       "<div>\n",
       "<style scoped>\n",
       "    .dataframe tbody tr th:only-of-type {\n",
       "        vertical-align: middle;\n",
       "    }\n",
       "\n",
       "    .dataframe tbody tr th {\n",
       "        vertical-align: top;\n",
       "    }\n",
       "\n",
       "    .dataframe thead th {\n",
       "        text-align: right;\n",
       "    }\n",
       "<\/style>\n",
       "<table border=\"1\" class=\"dataframe\">\n",
       "  <thead>\n",
       "    <tr style=\"text-align: right;\">\n",
       "      <th><\/th>\n",
       "      <th>BCHIP2_W99<\/th>\n",
       "      <th>BCHIP3_W99<\/th>\n",
       "      <th>BCHIP4_a_W99<\/th>\n",
       "      <th>BCHIP4_b_W99<\/th>\n",
       "      <th>BCHIP4_c_W99<\/th>\n",
       "      <th>BCHIP4_d_W99<\/th>\n",
       "      <th>BCHIP5_W99<\/th>\n",
       "      <th>BCHIP7_W99<\/th>\n",
       "      <th>BCHIP8_W99<\/th>\n",
       "      <th>BCHIP13_a_W99<\/th>\n",
       "      <th>BCHIP13_b_W99<\/th>\n",
       "      <th>BCHIP14_a_W99<\/th>\n",
       "      <th>BCHIP14_b_W99<\/th>\n",
       "      <th>BCHIP14_c_W99<\/th>\n",
       "      <th>BCHIP14_d_W99<\/th>\n",
       "    <\/tr>\n",
       "  <\/thead>\n",
       "  <tbody>\n",
       "    <tr>\n",
       "      <th>0<\/th>\n",
       "      <td>3.0<\/td>\n",
       "      <td>3.0<\/td>\n",
       "      <td>3.0<\/td>\n",
       "      <td>2.0<\/td>\n",
       "      <td>3.0<\/td>\n",
       "      <td>2.0<\/td>\n",
       "      <td>1.0<\/td>\n",
       "      <td>2.0<\/td>\n",
       "      <td>3.0<\/td>\n",
       "      <td>1.0<\/td>\n",
       "      <td>1.0<\/td>\n",
       "      <td>1.0<\/td>\n",
       "      <td>1.0<\/td>\n",
       "      <td>2.0<\/td>\n",
       "      <td>3.0<\/td>\n",
       "    <\/tr>\n",
       "    <tr>\n",
       "      <th>1<\/th>\n",
       "      <td>NaN<\/td>\n",
       "      <td>NaN<\/td>\n",
       "      <td>NaN<\/td>\n",
       "      <td>NaN<\/td>\n",
       "      <td>NaN<\/td>\n",
       "      <td>NaN<\/td>\n",
       "      <td>NaN<\/td>\n",
       "      <td>NaN<\/td>\n",
       "      <td>NaN<\/td>\n",
       "      <td>NaN<\/td>\n",
       "      <td>NaN<\/td>\n",
       "      <td>NaN<\/td>\n",
       "      <td>NaN<\/td>\n",
       "      <td>NaN<\/td>\n",
       "      <td>NaN<\/td>\n",
       "    <\/tr>\n",
       "    <tr>\n",
       "      <th>2<\/th>\n",
       "      <td>NaN<\/td>\n",
       "      <td>NaN<\/td>\n",
       "      <td>NaN<\/td>\n",
       "      <td>NaN<\/td>\n",
       "      <td>NaN<\/td>\n",
       "      <td>NaN<\/td>\n",
       "      <td>NaN<\/td>\n",
       "      <td>NaN<\/td>\n",
       "      <td>NaN<\/td>\n",
       "      <td>NaN<\/td>\n",
       "      <td>NaN<\/td>\n",
       "      <td>NaN<\/td>\n",
       "      <td>NaN<\/td>\n",
       "      <td>NaN<\/td>\n",
       "      <td>NaN<\/td>\n",
       "    <\/tr>\n",
       "    <tr>\n",
       "      <th>3<\/th>\n",
       "      <td>3.0<\/td>\n",
       "      <td>4.0<\/td>\n",
       "      <td>2.0<\/td>\n",
       "      <td>1.0<\/td>\n",
       "      <td>2.0<\/td>\n",
       "      <td>3.0<\/td>\n",
       "      <td>2.0<\/td>\n",
       "      <td>3.0<\/td>\n",
       "      <td>1.0<\/td>\n",
       "      <td>1.0<\/td>\n",
       "      <td>1.0<\/td>\n",
       "      <td>1.0<\/td>\n",
       "      <td>1.0<\/td>\n",
       "      <td>1.0<\/td>\n",
       "      <td>1.0<\/td>\n",
       "    <\/tr>\n",
       "    <tr>\n",
       "      <th>4<\/th>\n",
       "      <td>2.0<\/td>\n",
       "      <td>4.0<\/td>\n",
       "      <td>2.0<\/td>\n",
       "      <td>1.0<\/td>\n",
       "      <td>3.0<\/td>\n",
       "      <td>2.0<\/td>\n",
       "      <td>2.0<\/td>\n",
       "      <td>3.0<\/td>\n",
       "      <td>3.0<\/td>\n",
       "      <td>1.0<\/td>\n",
       "      <td>1.0<\/td>\n",
       "      <td>1.0<\/td>\n",
       "      <td>1.0<\/td>\n",
       "      <td>2.0<\/td>\n",
       "      <td>2.0<\/td>\n",
       "    <\/tr>\n",
       "  <\/tbody>\n",
       "<\/table>\n",
       "<\/div>"
      ]
     },
     "metadata":{
      
     },
     "output_type":"display_data"
    }
   ],
   "metadata":{
    "datalore":{
     "node_id":"LUQQAZ3FYRN2MY9GTG89Hm",
     "type":"CODE",
     "hide_input_from_viewers":true,
     "hide_output_from_viewers":true
    }
   }
  },
  {
   "cell_type":"markdown",
   "source":[
    "## Exploratory Data Analysis\n",
    "This section will be exploring the questions, and their sub-questions, below. Here, we will be exploring the sentiment among the Pew Research participants towards brain enhancement chips. \n",
    "### Questions to Be Explored\n",
    "- BCHIP2: Do you think widespread use of computer chip implants in the brain allowing people to far more quickly and accurately process information would be a…\n",
    "- BCHIP3: Would you personally want a computer chip implant in the brain, allowing you to far more quickly and accurately process information, if you had the opportunity?\n",
    "- BCHIP4: If the use of computer chip implants in the brain becomes widespread, allowing people to far more quickly and accurately process information, do you think each of the following would happen?\n",
    "- BCHIP5: If the use of computer chip implants in the brain becomes widespread, allowing people to far more quickly and accurately process information, which statement better describes how you would feel about this development?\n",
    "- BCHIP7: If the use of computer chip implants in the brain becomes widespread, allowing people to far more quickly and accurately process information, do you think people’s judgments and decision-making would be…\n",
    "- BCHIP8: If the use of computer chip implants in the brain becomes widespread, allowing people to far more quickly and accurately process information, do you think it would…\n",
    "- BCHIP13: Would the use of computer chip implants in the brain be more acceptable, less acceptable or would it make no difference in each of the following circumstances?\n",
    "- BCHIP14: Computer chip implants in the brain could be used for a number of purposes. Would you favor or oppose the use of computer chips implants in the brain for each of the following purposes?"
   ],
   "attachments":{
    
   },
   "metadata":{
    "datalore":{
     "node_id":"10TplGPtuNAM9iYmcQiwpT",
     "type":"MD",
     "hide_input_from_viewers":true,
     "hide_output_from_viewers":true
    }
   }
  },
  {
   "cell_type":"markdown",
   "source":[
    "### BCHIP2\n",
    "Question: Do you think widespread use of computer chip implants in the brain allowing people to far more quickly and accurately process information would be a...\n",
    "\n",
    "Answers:\n",
    "1. Good idea for society (1)\n",
    "2. Bad idea for society (2)\n",
    "3. Not sure (3)"
   ],
   "attachments":{
    
   },
   "metadata":{
    "datalore":{
     "node_id":"udwEfhHpkgme1ukSRINRR5",
     "type":"MD",
     "hide_input_from_viewers":true,
     "hide_output_from_viewers":true
    }
   }
  },
  {
   "cell_type":"code",
   "source":[
    "# Filter dataframe by BCHIP2\n",
    "two_cols = [col for col in chips_df.columns if col.startswith('BCHIP2')]\n",
    "two_df = chips_df[two_cols]"
   ],
   "execution_count":7,
   "outputs":[
    
   ],
   "metadata":{
    "datalore":{
     "node_id":"36bi3CHm1ibU7LkDxeIOMw",
     "type":"CODE",
     "hide_input_from_viewers":true,
     "hide_output_from_viewers":true
    }
   }
  },
  {
   "cell_type":"code",
   "source":[
    "two_df.head()"
   ],
   "execution_count":8,
   "outputs":[
    {
     "data":{
      "text\/html":[
       "<div>\n",
       "<style scoped>\n",
       "    .dataframe tbody tr th:only-of-type {\n",
       "        vertical-align: middle;\n",
       "    }\n",
       "\n",
       "    .dataframe tbody tr th {\n",
       "        vertical-align: top;\n",
       "    }\n",
       "\n",
       "    .dataframe thead th {\n",
       "        text-align: right;\n",
       "    }\n",
       "<\/style>\n",
       "<table border=\"1\" class=\"dataframe\">\n",
       "  <thead>\n",
       "    <tr style=\"text-align: right;\">\n",
       "      <th><\/th>\n",
       "      <th>BCHIP2_W99<\/th>\n",
       "    <\/tr>\n",
       "  <\/thead>\n",
       "  <tbody>\n",
       "    <tr>\n",
       "      <th>0<\/th>\n",
       "      <td>3.0<\/td>\n",
       "    <\/tr>\n",
       "    <tr>\n",
       "      <th>1<\/th>\n",
       "      <td>NaN<\/td>\n",
       "    <\/tr>\n",
       "    <tr>\n",
       "      <th>2<\/th>\n",
       "      <td>NaN<\/td>\n",
       "    <\/tr>\n",
       "    <tr>\n",
       "      <th>3<\/th>\n",
       "      <td>3.0<\/td>\n",
       "    <\/tr>\n",
       "    <tr>\n",
       "      <th>4<\/th>\n",
       "      <td>2.0<\/td>\n",
       "    <\/tr>\n",
       "  <\/tbody>\n",
       "<\/table>\n",
       "<\/div>"
      ]
     },
     "metadata":{
      
     },
     "output_type":"display_data"
    }
   ],
   "metadata":{
    "datalore":{
     "node_id":"Q4TjglnpiqmiH0TL6SCRxs",
     "type":"CODE",
     "hide_input_from_viewers":true,
     "hide_output_from_viewers":true
    }
   }
  },
  {
   "cell_type":"code",
   "source":[
    "# Remove instances of 99\n",
    "two_df = two_df[two_df.BCHIP2_W99 != 99]\n",
    "two_df.head()"
   ],
   "execution_count":9,
   "outputs":[
    {
     "data":{
      "text\/html":[
       "<div>\n",
       "<style scoped>\n",
       "    .dataframe tbody tr th:only-of-type {\n",
       "        vertical-align: middle;\n",
       "    }\n",
       "\n",
       "    .dataframe tbody tr th {\n",
       "        vertical-align: top;\n",
       "    }\n",
       "\n",
       "    .dataframe thead th {\n",
       "        text-align: right;\n",
       "    }\n",
       "<\/style>\n",
       "<table border=\"1\" class=\"dataframe\">\n",
       "  <thead>\n",
       "    <tr style=\"text-align: right;\">\n",
       "      <th><\/th>\n",
       "      <th>BCHIP2_W99<\/th>\n",
       "    <\/tr>\n",
       "  <\/thead>\n",
       "  <tbody>\n",
       "    <tr>\n",
       "      <th>0<\/th>\n",
       "      <td>3.0<\/td>\n",
       "    <\/tr>\n",
       "    <tr>\n",
       "      <th>1<\/th>\n",
       "      <td>NaN<\/td>\n",
       "    <\/tr>\n",
       "    <tr>\n",
       "      <th>2<\/th>\n",
       "      <td>NaN<\/td>\n",
       "    <\/tr>\n",
       "    <tr>\n",
       "      <th>3<\/th>\n",
       "      <td>3.0<\/td>\n",
       "    <\/tr>\n",
       "    <tr>\n",
       "      <th>4<\/th>\n",
       "      <td>2.0<\/td>\n",
       "    <\/tr>\n",
       "  <\/tbody>\n",
       "<\/table>\n",
       "<\/div>"
      ]
     },
     "metadata":{
      
     },
     "output_type":"display_data"
    }
   ],
   "metadata":{
    "datalore":{
     "node_id":"kIRfot1whC2NuEuyL7s9ZW",
     "type":"CODE",
     "hide_input_from_viewers":true,
     "hide_output_from_viewers":true
    }
   }
  },
  {
   "cell_type":"code",
   "source":[
    "two_df.value_counts()"
   ],
   "execution_count":10,
   "outputs":[
    {
     "data":{
      "text\/html":[
       "<pre>BCHIP2_W99\n",
       "2.0           2883\n",
       "3.0           1580\n",
       "1.0            615\n",
       "dtype: int64<\/pre>"
      ]
     },
     "metadata":{
      
     },
     "output_type":"display_data"
    }
   ],
   "metadata":{
    "datalore":{
     "node_id":"sYQR84keZ0w1PDUkEHMOxO",
     "type":"CODE",
     "hide_input_from_viewers":true,
     "hide_output_from_viewers":true
    }
   }
  },
  {
   "cell_type":"code",
   "source":[
    "# Creating a countplot of the column\n",
    "ax_two = sns.countplot(data=two_df, x='BCHIP2_W99')\n",
    "\n",
    "# Set axis labels and titles\n",
    "ax_two.set_xlabel(\"\")\n",
    "ax_two.set_ylabel(\"Count of Answers\", labelpad=20)\n",
    "ax_two.set_title(\"How People Feel About Brain Chip Implants?\", fontsize=15, pad=20)\n",
    "\n",
    "# Put the xtick labels on the bars\n",
    "for p, label in zip(ax_two.patches, ['Good idea', 'Bad idea', 'Unsure']):\n",
    "    ax_two.annotate(format(p.get_height(), '.0f'), \n",
    "                    (p.get_x() + p.get_width() \/ 2., p.get_height()), \n",
    "                    ha='center', va='center', xytext=(0, 10), \n",
    "                    textcoords='offset points', size=15)\n",
    "    ax_two.annotate(label, (p.get_x() + p.get_width() \/ 2., p.get_y() + p.get_height() \/ 2.), \n",
    "                    ha='center', va='center', xytext=(0, 0), \n",
    "                    textcoords='offset points', rotation=0, size=20)\n",
    "    p.set_edgecolor('black')  # add edgecolor to bars for better visibility\n",
    "    p.set_linewidth(0.5)  # set width of edgecolor line\n",
    "    p.set_alpha(0.7)  # set transparency of bars\n",
    "    ax_two.set_xticks([])  # remove xticks\n",
    "    ax_two.set_xlabel('')  # remove xlabel\n",
    "    ax_two.tick_params(axis='x', labelsize=15)\n",
    "\n",
    "# Removing gridlines\n",
    "ax_two.grid(False)\n",
    "\n",
    "# Set limit for y-axis\n",
    "ax_two.set_ylim([0, 3000])\n",
    "\n",
    "plt.show()"
   ],
   "execution_count":11,
   "outputs":[
    {
     "data":{
      "image\/png":"[encoded data removed]"
     },
     "metadata":{
      "image\/png":{
       
      }
     },
     "output_type":"display_data"
    }
   ],
   "metadata":{
    "datalore":{
     "node_id":"e2fPnUYzjsY2unmISpZsJr",
     "type":"CODE",
     "hide_input_from_viewers":true,
     "hide_output_from_viewers":true
    }
   }
  },
  {
   "cell_type":"markdown",
   "source":[
    "### BCHIP3\n",
    "Question: Would you personally want a computer chip implant in the brain, allowing you to far more quickly and accurately process information, if you had the opportunity?\n",
    "\n",
    "Answers:\n",
    "1. Definitely want (1)\n",
    "2. Probably want (2)\n",
    "3. Probably NOT want (3)\n",
    "4. Definitely NOT want (4)"
   ],
   "attachments":{
    
   },
   "metadata":{
    "datalore":{
     "node_id":"Xy80zQwXdTi05gtNT7llCT",
     "type":"MD",
     "hide_input_from_viewers":true,
     "hide_output_from_viewers":true
    }
   }
  },
  {
   "cell_type":"code",
   "source":[
    "# Filter dataframe by BCHIP3\n",
    "three_cols = [col for col in chips_df.columns if col.startswith('BCHIP3')]\n",
    "three_df = chips_df[three_cols]"
   ],
   "execution_count":12,
   "outputs":[
    
   ],
   "metadata":{
    "datalore":{
     "node_id":"TnHHdJYiqjX1ywtD0tlkDy",
     "type":"CODE",
     "hide_input_from_viewers":true,
     "hide_output_from_viewers":true
    }
   }
  },
  {
   "cell_type":"code",
   "source":[
    "# Remove instances of 99\n",
    "three_df = three_df[three_df.BCHIP3_W99 != 99]\n",
    "three_df.head()"
   ],
   "execution_count":13,
   "outputs":[
    {
     "data":{
      "text\/html":[
       "<div>\n",
       "<style scoped>\n",
       "    .dataframe tbody tr th:only-of-type {\n",
       "        vertical-align: middle;\n",
       "    }\n",
       "\n",
       "    .dataframe tbody tr th {\n",
       "        vertical-align: top;\n",
       "    }\n",
       "\n",
       "    .dataframe thead th {\n",
       "        text-align: right;\n",
       "    }\n",
       "<\/style>\n",
       "<table border=\"1\" class=\"dataframe\">\n",
       "  <thead>\n",
       "    <tr style=\"text-align: right;\">\n",
       "      <th><\/th>\n",
       "      <th>BCHIP3_W99<\/th>\n",
       "    <\/tr>\n",
       "  <\/thead>\n",
       "  <tbody>\n",
       "    <tr>\n",
       "      <th>0<\/th>\n",
       "      <td>3.0<\/td>\n",
       "    <\/tr>\n",
       "    <tr>\n",
       "      <th>1<\/th>\n",
       "      <td>NaN<\/td>\n",
       "    <\/tr>\n",
       "    <tr>\n",
       "      <th>2<\/th>\n",
       "      <td>NaN<\/td>\n",
       "    <\/tr>\n",
       "    <tr>\n",
       "      <th>3<\/th>\n",
       "      <td>4.0<\/td>\n",
       "    <\/tr>\n",
       "    <tr>\n",
       "      <th>4<\/th>\n",
       "      <td>4.0<\/td>\n",
       "    <\/tr>\n",
       "  <\/tbody>\n",
       "<\/table>\n",
       "<\/div>"
      ]
     },
     "metadata":{
      
     },
     "output_type":"display_data"
    }
   ],
   "metadata":{
    "datalore":{
     "node_id":"MvQXnCXskkmMyk9KJyHtCn",
     "type":"CODE",
     "hide_input_from_viewers":true,
     "hide_output_from_viewers":true
    }
   }
  },
  {
   "cell_type":"code",
   "source":[
    "three_df.value_counts()"
   ],
   "execution_count":14,
   "outputs":[
    {
     "data":{
      "text\/html":[
       "<pre>BCHIP3_W99\n",
       "4.0           2552\n",
       "3.0           1493\n",
       "2.0            719\n",
       "1.0            276\n",
       "dtype: int64<\/pre>"
      ]
     },
     "metadata":{
      
     },
     "output_type":"display_data"
    }
   ],
   "metadata":{
    "datalore":{
     "node_id":"hUpwsEbfYpScxOuKFAxNHe",
     "type":"CODE",
     "hide_input_from_viewers":true,
     "hide_output_from_viewers":true
    }
   }
  },
  {
   "cell_type":"code",
   "source":[
    "# Create the figure and the plot.\n",
    "\n",
    "# Creating a countplot of the column\n",
    "ax_three = sns.countplot(data=three_df, x='BCHIP3_W99')\n",
    "\n",
    "# Set axis labels and titles\n",
    "ax_three.set_xlabel(\"\")\n",
    "ax_three.set_ylabel(\"Count of Answers\", labelpad=20)\n",
    "ax_three.set_title(\"Would People Want a Brain Chip Implant?\", fontsize=15, pad=20)\n",
    "\n",
    "# Put the xtick labels on the bars\n",
    "for p, label in zip(ax_three.patches, ['Definitely', 'Probably', 'Probably Not', 'Definitely Not']):\n",
    "    ax_three.annotate(format(p.get_height(), '.0f'), \n",
    "                    (p.get_x() + p.get_width() \/ 2., p.get_height()), \n",
    "                    ha='center', va='center', xytext=(0, 10), \n",
    "                    textcoords='offset points', size=15)\n",
    "    ax_three.annotate(label, (p.get_x() + p.get_width() \/ 2., p.get_y() + p.get_height() \/ 2.), \n",
    "                    ha='center', va='center', xytext=(0, 0), \n",
    "                    textcoords='offset points', rotation=0, size=20)\n",
    "    p.set_edgecolor('black')  # add edgecolor to bars for better visibility\n",
    "    p.set_linewidth(0.5)  # set width of edgecolor line\n",
    "    p.set_alpha(0.7)  # set transparency of bars\n",
    "    ax_three.set_xticks([])  # remove xticks\n",
    "    ax_three.set_xlabel('')  # remove xlabel\n",
    "    ax_three.tick_params(axis='x', labelsize=15)\n",
    "\n",
    "# Removing gridlines\n",
    "ax_three.grid(False)\n",
    "\n",
    "# Set limit for y-axis\n",
    "ax_three.set_ylim([0, 3000])\n",
    "\n",
    "plt.show()"
   ],
   "execution_count":15,
   "outputs":[
    {
     "data":{
      "image\/png":"[encoded data removed]"
     },
     "metadata":{
      "image\/png":{
       
      }
     },
     "output_type":"display_data"
    }
   ],
   "metadata":{
    "datalore":{
     "node_id":"mZLKW94a8hDhCUoxtmYUgU",
     "type":"CODE",
     "hide_input_from_viewers":true,
     "hide_output_from_viewers":true
    }
   }
  },
  {
   "cell_type":"markdown",
   "source":[
    "### BCHIP4\n",
    "Question: If the use of computer chip implants in the brain becomes widespread, allowing people to far more quickly and accurately process information, do you think each of the following would happen?\n",
    "1. People who have these computer chip implants in the brain would be more productive at their jobs\n",
    "2. These computer chip implants in the brain would be used before we fully understand how they affect people’s health \n",
    "3. The use of these computer chip implants in the brain would lead to new innovation and problem solving in society\n",
    "4. These techniques would go too far eliminating natural differences between people in society\n",
    "\n",
    "Answers:\n",
    "1. Definitely want (1)\n",
    "2. Probably want (2)\n",
    "3. Probably NOT want (3)\n",
    "4. Definitely NOT want (4)"
   ],
   "attachments":{
    
   },
   "metadata":{
    "datalore":{
     "node_id":"HKBCeKACskZJ7SBb0AzTKR",
     "type":"MD",
     "hide_input_from_viewers":true,
     "hide_output_from_viewers":true
    }
   }
  },
  {
   "cell_type":"code",
   "source":[
    "# Filter dataframe by BCHIP4\n",
    "four_cols = [col for col in chips_df.columns if col.startswith('BCHIP4')]\n",
    "four_df = chips_df[four_cols]"
   ],
   "execution_count":16,
   "outputs":[
    
   ],
   "metadata":{
    "datalore":{
     "node_id":"axq5YxYXk6TXwOuYxOENTI",
     "type":"CODE",
     "hide_input_from_viewers":true,
     "hide_output_from_viewers":true
    }
   }
  },
  {
   "cell_type":"code",
   "source":[
    "# Remove instances of 99\n",
    "four_df = four_df[four_df != 99].dropna()\n",
    "four_df.value_counts()"
   ],
   "execution_count":17,
   "outputs":[
    {
     "data":{
      "text\/html":[
       "<pre>BCHIP4_a_W99  BCHIP4_b_W99  BCHIP4_c_W99  BCHIP4_d_W99\n",
       "2.0           2.0           2.0           2.0             689\n",
       "              1.0           2.0           1.0             300\n",
       "              2.0           2.0           3.0             251\n",
       "              1.0           2.0           2.0             220\n",
       "3.0           1.0           3.0           1.0             189\n",
       "                                                         ... \n",
       "              4.0           1.0           1.0               1\n",
       "4.0           1.0           1.0           3.0               1\n",
       "                            3.0           4.0               1\n",
       "              2.0           1.0           2.0               1\n",
       "2.0           4.0           4.0           4.0               1\n",
       "Length: 198, dtype: int64<\/pre>"
      ]
     },
     "metadata":{
      
     },
     "output_type":"display_data"
    }
   ],
   "metadata":{
    "datalore":{
     "node_id":"eSylZMKnrgGjr6o8AZIcEL",
     "type":"CODE",
     "hide_input_from_viewers":true,
     "hide_output_from_viewers":true
    }
   }
  },
  {
   "cell_type":"code",
   "source":[
    "four_df.head()"
   ],
   "execution_count":18,
   "outputs":[
    {
     "data":{
      "text\/html":[
       "<div>\n",
       "<style scoped>\n",
       "    .dataframe tbody tr th:only-of-type {\n",
       "        vertical-align: middle;\n",
       "    }\n",
       "\n",
       "    .dataframe tbody tr th {\n",
       "        vertical-align: top;\n",
       "    }\n",
       "\n",
       "    .dataframe thead th {\n",
       "        text-align: right;\n",
       "    }\n",
       "<\/style>\n",
       "<table border=\"1\" class=\"dataframe\">\n",
       "  <thead>\n",
       "    <tr style=\"text-align: right;\">\n",
       "      <th><\/th>\n",
       "      <th>BCHIP4_a_W99<\/th>\n",
       "      <th>BCHIP4_b_W99<\/th>\n",
       "      <th>BCHIP4_c_W99<\/th>\n",
       "      <th>BCHIP4_d_W99<\/th>\n",
       "    <\/tr>\n",
       "  <\/thead>\n",
       "  <tbody>\n",
       "    <tr>\n",
       "      <th>0<\/th>\n",
       "      <td>3.0<\/td>\n",
       "      <td>2.0<\/td>\n",
       "      <td>3.0<\/td>\n",
       "      <td>2.0<\/td>\n",
       "    <\/tr>\n",
       "    <tr>\n",
       "      <th>3<\/th>\n",
       "      <td>2.0<\/td>\n",
       "      <td>1.0<\/td>\n",
       "      <td>2.0<\/td>\n",
       "      <td>3.0<\/td>\n",
       "    <\/tr>\n",
       "    <tr>\n",
       "      <th>4<\/th>\n",
       "      <td>2.0<\/td>\n",
       "      <td>1.0<\/td>\n",
       "      <td>3.0<\/td>\n",
       "      <td>2.0<\/td>\n",
       "    <\/tr>\n",
       "    <tr>\n",
       "      <th>7<\/th>\n",
       "      <td>4.0<\/td>\n",
       "      <td>1.0<\/td>\n",
       "      <td>3.0<\/td>\n",
       "      <td>1.0<\/td>\n",
       "    <\/tr>\n",
       "    <tr>\n",
       "      <th>9<\/th>\n",
       "      <td>2.0<\/td>\n",
       "      <td>1.0<\/td>\n",
       "      <td>3.0<\/td>\n",
       "      <td>1.0<\/td>\n",
       "    <\/tr>\n",
       "  <\/tbody>\n",
       "<\/table>\n",
       "<\/div>"
      ]
     },
     "metadata":{
      
     },
     "output_type":"display_data"
    }
   ],
   "metadata":{
    "datalore":{
     "node_id":"bDoz2xtHohGsag76UXkt2H",
     "type":"CODE",
     "hide_input_from_viewers":true,
     "hide_output_from_viewers":true
    }
   }
  },
  {
   "cell_type":"code",
   "source":[
    "four_df['BCHIP4_b_W99'].value_counts()"
   ],
   "execution_count":19,
   "outputs":[
    {
     "data":{
      "text\/html":[
       "<pre>2.0    2205\n",
       "1.0    1851\n",
       "3.0     546\n",
       "4.0     289\n",
       "Name: BCHIP4_b_W99, dtype: int64<\/pre>"
      ]
     },
     "metadata":{
      
     },
     "output_type":"display_data"
    }
   ],
   "metadata":{
    "datalore":{
     "node_id":"v5jrhjfWQVAujAiPURm10m",
     "type":"CODE",
     "hide_input_from_viewers":true,
     "hide_output_from_viewers":true
    }
   }
  },
  {
   "cell_type":"code",
   "source":[
    "# Create a figure with two subplots\n",
    "fig, axs = plt.subplots(1, 2, figsize=(15, 10))\n",
    "\n",
    "# Set super title\n",
    "fig.suptitle('What Might Happen with Widespread Brain Chip Implants?', fontsize=20)\n",
    "\n",
    "# Iterate through each subplot and create a countplot for each column\n",
    "for i, col in enumerate(['BCHIP4_a_W99', 'BCHIP4_b_W99']):\n",
    "    # Creating a countplot of the column\n",
    "    ax = sns.countplot(data=four_df, x=col, ax=axs[i])\n",
    "    \n",
    "    # Set axis labels and titles\n",
    "    ax.set_xlabel(\"\")\n",
    "    ax.set_ylabel(\"Count of Answers\", labelpad=20)\n",
    "    ax.set_title(col.replace('_W99', '').replace('BCHIP4_a', 'Become More Productive')\n",
    "                 .replace('BCHIP4_b', 'Use Before Understanding'), fontsize=15, pad=20)\n",
    "    \n",
    "    # Put the xtick labels on the bars\n",
    "    for p, label in zip(ax.patches, ['Definitely', 'Probably', 'Probably Not', 'Definitely Not']):\n",
    "        ax.annotate(format(p.get_height(), '.0f'), \n",
    "                    (p.get_x() + p.get_width() \/ 2., p.get_height()), \n",
    "                    ha='center', va='center', xytext=(0, 10), \n",
    "                    textcoords='offset points', size=15)\n",
    "        ax.annotate(label, (p.get_x() + p.get_width() \/ 2., p.get_y() + p.get_height() \/ 2.), \n",
    "                    ha='center', va='center', xytext=(0, 0), \n",
    "                    textcoords='offset points', rotation=0, size=12)\n",
    "        p.set_edgecolor('black')  # add edgecolor to bars for better visibility\n",
    "        p.set_linewidth(0.5)  # set width of edgecolor line\n",
    "        p.set_alpha(0.7)  # set transparency of bars\n",
    "        ax.set_xticks([])  # remove xticks\n",
    "        ax.set_xlabel('')  # remove xlabel\n",
    "        ax.tick_params(axis='x', labelsize=15)\n",
    "\n",
    "    # Removing gridlines\n",
    "    ax.grid(False)\n",
    "\n",
    "    # Set limit for y-axis\n",
    "    ax.set_ylim([0, 3000])\n",
    "\n",
    "# Remove y-axis on the second subplot\n",
    "axs[1].set_yticks([])\n",
    "axs[1].set_ylabel('')\n",
    "\n",
    "# Adjust spacing between subplots\n",
    "fig.tight_layout()\n",
    "\n",
    "plt.show()"
   ],
   "execution_count":20,
   "outputs":[
    {
     "data":{
      "image\/png":"[encoded data removed]"
     },
     "metadata":{
      "image\/png":{
       
      }
     },
     "output_type":"display_data"
    }
   ],
   "metadata":{
    "datalore":{
     "node_id":"ID8o8vo8cL0P8d7ffHxfr7",
     "type":"CODE",
     "hide_input_from_viewers":true,
     "hide_output_from_viewers":true
    }
   }
  },
  {
   "cell_type":"code",
   "source":[
    "four_df['BCHIP4_d_W99'].value_counts()"
   ],
   "execution_count":21,
   "outputs":[
    {
     "data":{
      "text\/html":[
       "<pre>2.0    1982\n",
       "1.0    1587\n",
       "3.0     976\n",
       "4.0     346\n",
       "Name: BCHIP4_d_W99, dtype: int64<\/pre>"
      ]
     },
     "metadata":{
      
     },
     "output_type":"display_data"
    }
   ],
   "metadata":{
    "datalore":{
     "node_id":"Tc4vcTt6N36z0cIaZoraAA",
     "type":"CODE",
     "hide_input_from_viewers":true,
     "hide_output_from_viewers":true
    }
   }
  },
  {
   "cell_type":"code",
   "source":[
    "# Create a figure with two subplots\n",
    "fig, axs = plt.subplots(1, 2, figsize=(15, 10))\n",
    "\n",
    "# Set super title\n",
    "fig.suptitle('What Might Happen with Widespread Brain Chip Implants?', fontsize=20)\n",
    "\n",
    "# Iterate through each subplot and create a countplot for each column\n",
    "for i, col in enumerate(['BCHIP4_c_W99', 'BCHIP4_d_W99']):\n",
    "    # Creating a countplot of the column\n",
    "    ax = sns.countplot(data=four_df, x=col, ax=axs[i])\n",
    "    \n",
    "    # Set axis labels and titles\n",
    "    ax.set_xlabel(\"\")\n",
    "    ax.set_ylabel(\"Count of Answers\", labelpad=20)\n",
    "    ax.set_title(col.replace('_W99', '').replace('BCHIP4_c', 'Inspire Inventive Thinking')\n",
    "                 .replace('BCHIP4_d', 'Limit Individual Diversity'), fontsize=15, pad=20)\n",
    "    \n",
    "    # Put the xtick labels on the bars\n",
    "    for p, label in zip(ax.patches, ['Definitely', 'Probably', 'Probably Not', 'Definitely Not']):\n",
    "        ax.annotate(format(p.get_height(), '.0f'), \n",
    "                    (p.get_x() + p.get_width() \/ 2., p.get_height()), \n",
    "                    ha='center', va='center', xytext=(0, 10), \n",
    "                    textcoords='offset points', size=15)\n",
    "        ax.annotate(label, (p.get_x() + p.get_width() \/ 2., p.get_y() + p.get_height() \/ 2.), \n",
    "                    ha='center', va='center', xytext=(0, 0), \n",
    "                    textcoords='offset points', rotation=0, size=12)\n",
    "        p.set_edgecolor('black')  # add edgecolor to bars for better visibility\n",
    "        p.set_linewidth(0.5)  # set width of edgecolor line\n",
    "        p.set_alpha(0.7)  # set transparency of bars\n",
    "        ax.set_xticks([])  # remove xticks\n",
    "        ax.set_xlabel('')  # remove xlabel\n",
    "        ax.tick_params(axis='x', labelsize=15)\n",
    "\n",
    "    # Removing gridlines\n",
    "    ax.grid(False)\n",
    "\n",
    "    # Set limit for y-axis\n",
    "    ax.set_ylim([0, 3000])\n",
    "\n",
    "# Remove y-axis on the second subplot\n",
    "axs[1].set_yticks([])\n",
    "axs[1].set_ylabel('')\n",
    "\n",
    "# Adjust spacing between subplots\n",
    "fig.tight_layout()\n",
    "\n",
    "plt.show()"
   ],
   "execution_count":22,
   "outputs":[
    {
     "data":{
      "image\/png":"[encoded data removed]"
     },
     "metadata":{
      "image\/png":{
       
      }
     },
     "output_type":"display_data"
    }
   ],
   "metadata":{
    "datalore":{
     "node_id":"iLpRlpqIzyoDZysjOVyTTr",
     "type":"CODE",
     "hide_input_from_viewers":true,
     "hide_output_from_viewers":true
    }
   }
  },
  {
   "cell_type":"markdown",
   "source":[
    "### BCHIP5\n",
    "Question: If the use of computer chip implants in the brain becomes widespread, allowing people to far more quickly and accurately process information, which statement better describes how you would feel about this development?\n",
    "\n",
    "Answers:\n",
    "1. As humans, we are always trying to better ourselves and this idea is no different (1)\n",
    "2. This idea is meddling with nature and crosses a line we should not cross (2)"
   ],
   "attachments":{
    
   },
   "metadata":{
    "datalore":{
     "node_id":"MH1Q0U1dObfMo932Uee9sg",
     "type":"MD",
     "hide_input_from_viewers":true,
     "hide_output_from_viewers":true
    }
   }
  },
  {
   "cell_type":"code",
   "source":[
    "# Filter dataframe by BCHIP5\n",
    "five_cols = [col for col in chips_df.columns if col.startswith('BCHIP5')]\n",
    "five_df = chips_df[five_cols]"
   ],
   "execution_count":23,
   "outputs":[
    
   ],
   "metadata":{
    "datalore":{
     "node_id":"9yxhQPMv8jOdFOusrAzBR5",
     "type":"CODE",
     "hide_input_from_viewers":true,
     "hide_output_from_viewers":true
    }
   }
  },
  {
   "cell_type":"code",
   "source":[
    "# Remove instances of 99\n",
    "five_df = five_df[five_df.BCHIP5_W99 != 99]\n",
    "five_df.value_counts()"
   ],
   "execution_count":24,
   "outputs":[
    {
     "data":{
      "text\/html":[
       "<pre>BCHIP5_W99\n",
       "2.0           3252\n",
       "1.0           1779\n",
       "dtype: int64<\/pre>"
      ]
     },
     "metadata":{
      
     },
     "output_type":"display_data"
    }
   ],
   "metadata":{
    "datalore":{
     "node_id":"EzPF7FAseSHxP74tVTrs8i",
     "type":"CODE",
     "hide_input_from_viewers":true,
     "hide_output_from_viewers":true
    }
   }
  },
  {
   "cell_type":"code",
   "source":[
    "# Creating the sizes and colors\n",
    "palette = sns.color_palette('colorblind')\n",
    "sizes = [3252, 1779]\n",
    "colors = palette[:2]\n",
    "labels = ['65% say humans always \\n seek self-improvement', '35% say this crosses a line \\n by meddling with nature']\n",
    "\n",
    "# Create the donut chart\n",
    "fig, ax = plt.subplots()\n",
    "fig.set_size_inches(17, 12)\n",
    "ax.axis('equal')\n",
    "wedges, texts, autotexts = ax.pie(sizes, colors=colors, startangle=90, pctdistance=0.85, explode=(0.1, 0), autopct='', textprops={'fontsize': 15, 'ha': 'center', 'va': 'center'})\n",
    "\n",
    "# Add labels to the donut chart\n",
    "for i, wedge in enumerate(wedges):\n",
    "    # Calculate the angle for the wedge\n",
    "    angle = (wedge.theta2 - wedge.theta1) \/ 2. + wedge.theta1\n",
    "    # Convert the angle to radians\n",
    "    angle_rad = angle \/ 180. * np.pi\n",
    "    # Calculate the distance from the center of the chart for the label text\n",
    "    distance = 1.1 + 0.15*(i==0) # add extra distance for the first label to center it\n",
    "    # Calculate the position for the label\n",
    "    x = np.cos(angle_rad) * distance\n",
    "    y = np.sin(angle_rad) * distance\n",
    "    # Set the text for the label\n",
    "    label_text = labels[i]\n",
    "    # Create the label with a line pointing to it\n",
    "    ax.annotate(label_text, xy=(np.cos(angle_rad), np.sin(angle_rad)), xytext=(np.cos(angle_rad)*1.25, np.sin(angle_rad)*1.25),\n",
    "                fontsize=17, ha='center', va='center_baseline', \n",
    "                bbox=dict(boxstyle='round', pad=0.5, facecolor=(1.0, 1.0, 1.0, 0.5), edgecolor='gray'))\n",
    "\n",
    "\n",
    "\n",
    "# Create the donut hole\n",
    "my_circle = plt.Circle((0,0), 0.70, color='white')\n",
    "fig = plt.gcf()\n",
    "fig.gca().add_artist(my_circle)\n",
    "\n",
    "# Increase font sizes\n",
    "plt.title('How Do People Feel About the Use of Brain Chip Implants?', fontsize=20)\n",
    "plt.setp(texts, size=20)\n",
    "\n",
    "# Show the chart\n",
    "plt.show()"
   ],
   "execution_count":25,
   "outputs":[
    {
     "data":{
      "image\/png":"[encoded data removed]"
     },
     "metadata":{
      "image\/png":{
       
      }
     },
     "output_type":"display_data"
    }
   ],
   "metadata":{
    "datalore":{
     "node_id":"42xKohZjXfLQ4r0JWtUp3p",
     "type":"CODE",
     "hide_input_from_viewers":true,
     "hide_output_from_viewers":true
    }
   }
  },
  {
   "cell_type":"markdown",
   "source":[
    "### BCHIP7\n",
    "Question: If the use of computer chip implants in the brain becomes widespread, allowing people to far more quickly and accurately process information, do you think people’s judgments and decision-making would be\n",
    "\n",
    "Answers:\n",
    "1. Better than now (1)\n",
    "2. Worse than now (2)\n",
    "3. About the same as now (3)"
   ],
   "attachments":{
    
   },
   "metadata":{
    "datalore":{
     "node_id":"EwJPXtI5NQgUuN89PMPoYZ",
     "type":"MD",
     "hide_input_from_viewers":true,
     "hide_output_from_viewers":true
    }
   }
  },
  {
   "cell_type":"code",
   "source":[
    "# Filter dataframe by BCHIP7\n",
    "seven_cols = [col for col in chips_df.columns if col.startswith('BCHIP7')]\n",
    "seven_df = chips_df[seven_cols]\n",
    "\n",
    "# Remove instances of 99\n",
    "seven_df = seven_df[seven_df != 99].dropna()\n",
    "seven_df.value_counts()"
   ],
   "execution_count":26,
   "outputs":[
    {
     "data":{
      "text\/html":[
       "<pre>BCHIP7_W99\n",
       "3.0           2169\n",
       "2.0           1566\n",
       "1.0           1228\n",
       "dtype: int64<\/pre>"
      ]
     },
     "metadata":{
      
     },
     "output_type":"display_data"
    }
   ],
   "metadata":{
    "datalore":{
     "node_id":"xnX04dOvm8YcZWhTv9xynp",
     "type":"CODE",
     "hide_input_from_viewers":true,
     "hide_output_from_viewers":true
    }
   }
  },
  {
   "cell_type":"code",
   "source":[
    "seven_df.head()"
   ],
   "execution_count":27,
   "outputs":[
    {
     "data":{
      "text\/html":[
       "<div>\n",
       "<style scoped>\n",
       "    .dataframe tbody tr th:only-of-type {\n",
       "        vertical-align: middle;\n",
       "    }\n",
       "\n",
       "    .dataframe tbody tr th {\n",
       "        vertical-align: top;\n",
       "    }\n",
       "\n",
       "    .dataframe thead th {\n",
       "        text-align: right;\n",
       "    }\n",
       "<\/style>\n",
       "<table border=\"1\" class=\"dataframe\">\n",
       "  <thead>\n",
       "    <tr style=\"text-align: right;\">\n",
       "      <th><\/th>\n",
       "      <th>BCHIP7_W99<\/th>\n",
       "    <\/tr>\n",
       "  <\/thead>\n",
       "  <tbody>\n",
       "    <tr>\n",
       "      <th>0<\/th>\n",
       "      <td>2.0<\/td>\n",
       "    <\/tr>\n",
       "    <tr>\n",
       "      <th>3<\/th>\n",
       "      <td>3.0<\/td>\n",
       "    <\/tr>\n",
       "    <tr>\n",
       "      <th>4<\/th>\n",
       "      <td>3.0<\/td>\n",
       "    <\/tr>\n",
       "    <tr>\n",
       "      <th>7<\/th>\n",
       "      <td>2.0<\/td>\n",
       "    <\/tr>\n",
       "    <tr>\n",
       "      <th>9<\/th>\n",
       "      <td>2.0<\/td>\n",
       "    <\/tr>\n",
       "  <\/tbody>\n",
       "<\/table>\n",
       "<\/div>"
      ]
     },
     "metadata":{
      
     },
     "output_type":"display_data"
    }
   ],
   "metadata":{
    "datalore":{
     "node_id":"BwRjsLTHHZ6cKmyjY9Km9n",
     "type":"CODE",
     "hide_input_from_viewers":true,
     "hide_output_from_viewers":true
    }
   }
  },
  {
   "cell_type":"code",
   "source":[
    "# Creating a countplot of the column\n",
    "ax_seven = sns.countplot(data=seven_df, x='BCHIP7_W99')\n",
    "\n",
    "# Set axis labels and titles\n",
    "ax_seven.set_xlabel(\"\")\n",
    "ax_seven.set_ylabel(\"Count of Answers\", labelpad=20)\n",
    "ax_seven.set_title(\"How Would Brain Chip Implants Impact Judgement and Decision-Making?\", fontsize=15, pad=20)\n",
    "\n",
    "# Put the xtick labels on the bars\n",
    "for p, label in zip(ax_seven.patches, ['Better', 'Worse', 'Same']):\n",
    "    ax_seven.annotate(format(p.get_height(), '.0f'), \n",
    "                    (p.get_x() + p.get_width() \/ 2., p.get_height()), \n",
    "                    ha='center', va='center', xytext=(0, 10), \n",
    "                    textcoords='offset points', size=15)\n",
    "    ax_seven.annotate(label, (p.get_x() + p.get_width() \/ 2., p.get_y() + p.get_height() \/ 2.), \n",
    "                    ha='center', va='center', xytext=(0, 0), \n",
    "                    textcoords='offset points', rotation=0, size=20)\n",
    "    p.set_edgecolor('black')  # add edgecolor to bars for better visibility\n",
    "    p.set_linewidth(0.5)  # set width of edgecolor line\n",
    "    p.set_alpha(0.7)  # set transparency of bars\n",
    "    ax_seven.set_xticks([])  # remove xticks\n",
    "    ax_seven.set_xlabel('')  # remove xlabel\n",
    "    ax_seven.tick_params(axis='x', labelsize=15)\n",
    "\n",
    "# Removing gridlines\n",
    "ax_seven.grid(False)\n",
    "\n",
    "# Set limit for y-axis\n",
    "ax_seven.set_ylim([0, 3000])\n",
    "\n",
    "plt.show()"
   ],
   "execution_count":28,
   "outputs":[
    {
     "data":{
      "image\/png":"[encoded data removed]"
     },
     "metadata":{
      "image\/png":{
       
      }
     },
     "output_type":"display_data"
    }
   ],
   "metadata":{
    "datalore":{
     "node_id":"IAGCHdmLPLawW2LbL96xEU",
     "type":"CODE",
     "hide_input_from_viewers":true,
     "hide_output_from_viewers":true
    }
   }
  },
  {
   "cell_type":"markdown",
   "source":[
    "### BCHIP8\n",
    "Question: If the use of computer chip implants in the brain becomes widespread, allowing people to far more quickly and accurately process information, do you think it would\n",
    "\n",
    "Answers:\n",
    "1. Increase the gap between higher and lower-income Americans (1)\n",
    "2. Decrease the gap between higher and lower-income Americans (2)\n",
    "3. Not make much difference (3)"
   ],
   "attachments":{
    
   },
   "metadata":{
    "datalore":{
     "node_id":"GtYfQ82UUiPmiYY60IuJL5",
     "type":"MD",
     "hide_input_from_viewers":true,
     "hide_output_from_viewers":true
    }
   }
  },
  {
   "cell_type":"code",
   "source":[
    "# Filter dataframe by BCHIP8\n",
    "eight_cols = [col for col in chips_df.columns if col.startswith('BCHIP8')]\n",
    "eight_df = chips_df[eight_cols]\n",
    "\n",
    "# Remove instances of 99\n",
    "eight_df = eight_df[eight_df != 99].dropna()\n",
    "eight_df.value_counts()"
   ],
   "execution_count":29,
   "outputs":[
    {
     "data":{
      "text\/html":[
       "<pre>BCHIP8_W99\n",
       "1.0           3083\n",
       "3.0           1422\n",
       "2.0            484\n",
       "dtype: int64<\/pre>"
      ]
     },
     "metadata":{
      
     },
     "output_type":"display_data"
    }
   ],
   "metadata":{
    "datalore":{
     "node_id":"xpWe8sys0EF2zWfMm2ZUH8",
     "type":"CODE",
     "hide_input_from_viewers":true,
     "hide_output_from_viewers":true
    }
   }
  },
  {
   "cell_type":"code",
   "source":[
    "eight_df.head()"
   ],
   "execution_count":30,
   "outputs":[
    {
     "data":{
      "text\/html":[
       "<div>\n",
       "<style scoped>\n",
       "    .dataframe tbody tr th:only-of-type {\n",
       "        vertical-align: middle;\n",
       "    }\n",
       "\n",
       "    .dataframe tbody tr th {\n",
       "        vertical-align: top;\n",
       "    }\n",
       "\n",
       "    .dataframe thead th {\n",
       "        text-align: right;\n",
       "    }\n",
       "<\/style>\n",
       "<table border=\"1\" class=\"dataframe\">\n",
       "  <thead>\n",
       "    <tr style=\"text-align: right;\">\n",
       "      <th><\/th>\n",
       "      <th>BCHIP8_W99<\/th>\n",
       "    <\/tr>\n",
       "  <\/thead>\n",
       "  <tbody>\n",
       "    <tr>\n",
       "      <th>0<\/th>\n",
       "      <td>3.0<\/td>\n",
       "    <\/tr>\n",
       "    <tr>\n",
       "      <th>3<\/th>\n",
       "      <td>1.0<\/td>\n",
       "    <\/tr>\n",
       "    <tr>\n",
       "      <th>4<\/th>\n",
       "      <td>3.0<\/td>\n",
       "    <\/tr>\n",
       "    <tr>\n",
       "      <th>7<\/th>\n",
       "      <td>1.0<\/td>\n",
       "    <\/tr>\n",
       "    <tr>\n",
       "      <th>9<\/th>\n",
       "      <td>1.0<\/td>\n",
       "    <\/tr>\n",
       "  <\/tbody>\n",
       "<\/table>\n",
       "<\/div>"
      ]
     },
     "metadata":{
      
     },
     "output_type":"display_data"
    }
   ],
   "metadata":{
    "datalore":{
     "node_id":"xWABFS9PH3oVDw6XBTnUmf",
     "type":"CODE",
     "hide_input_from_viewers":true,
     "hide_output_from_viewers":true
    }
   }
  },
  {
   "cell_type":"code",
   "source":[
    "# Creating a countplot of the column\n",
    "ax_eight = sns.countplot(data=eight_df, x='BCHIP8_W99')\n",
    "\n",
    "# Set axis labels and titles\n",
    "ax_eight.set_xlabel(\"\")\n",
    "ax_eight.set_ylabel(\"Count of Answers\", labelpad=20)\n",
    "ax_eight.set_title(\"Would the Widespread Use of Brain Chip Implants Increase or Decrease Income Inequality in America?\", fontsize=15, pad=20)\n",
    "\n",
    "# Put the xtick labels on the bars\n",
    "for p, label in zip(ax_eight.patches, ['Increase', 'No Change', 'Decrease']):\n",
    "    ax_eight.annotate(format(p.get_height(), '.0f'), \n",
    "                    (p.get_x() + p.get_width() \/ 2., p.get_height()), \n",
    "                    ha='center', va='center', xytext=(0, 10), \n",
    "                    textcoords='offset points', size=15)\n",
    "    ax_eight.annotate(label, (p.get_x() + p.get_width() \/ 2., p.get_y() + p.get_height() \/ 2.), \n",
    "                    ha='center', va='center', xytext=(0, 0), \n",
    "                    textcoords='offset points', rotation=0, size=20)\n",
    "    p.set_edgecolor('black')  # add edgecolor to bars for better visibility\n",
    "    p.set_linewidth(0.5)  # set width of edgecolor line\n",
    "    p.set_alpha(0.7)  # set transparency of bars\n",
    "    ax_eight.set_xticks([])  # remove xticks\n",
    "    ax_eight.set_xlabel('')  # remove xlabel\n",
    "    ax_eight.tick_params(axis='x', labelsize=15)\n",
    "\n",
    "# Removing gridlines\n",
    "ax_eight.grid(False)\n",
    "\n",
    "# Set limit for y-axis\n",
    "ax_eight.set_ylim([0, 3500])\n",
    "\n",
    "plt.show()"
   ],
   "execution_count":31,
   "outputs":[
    {
     "data":{
      "image\/png":"[encoded data removed]"
     },
     "metadata":{
      "image\/png":{
       
      }
     },
     "output_type":"display_data"
    }
   ],
   "metadata":{
    "datalore":{
     "node_id":"5L6LD8JUpJStJx8tdksYJY",
     "type":"CODE",
     "hide_input_from_viewers":true,
     "hide_output_from_viewers":true
    }
   }
  },
  {
   "cell_type":"markdown",
   "source":[
    "### BCHIP13\n",
    "Question: Would the use of computer chip implants in the brain be more acceptable, less acceptable or would it make no difference in each of the following circumstances?\n",
    "1. If people could turn on and off the effects\n",
    "2. If it could be put in place without surgery \n",
    "\n",
    "Answers:\n",
    "1. More acceptable (1)\n",
    "2. Less acceptable (2)\n",
    "3. No difference (3)"
   ],
   "attachments":{
    
   },
   "metadata":{
    "datalore":{
     "node_id":"UAV05gbl58Lc7rqsGo1sHV",
     "type":"MD",
     "hide_input_from_viewers":true,
     "hide_output_from_viewers":true
    }
   }
  },
  {
   "cell_type":"code",
   "source":[
    "# Filter dataframe by BCHIP13\n",
    "thirteen_cols = [col for col in chips_df.columns if col.startswith('BCHIP13')]\n",
    "thirteen_df = chips_df[thirteen_cols]\n",
    "\n",
    "# Remove instances of 99\n",
    "thirteen_df = thirteen_df[thirteen_df != 99].dropna()\n",
    "thirteen_df.value_counts()"
   ],
   "execution_count":32,
   "outputs":[
    {
     "data":{
      "text\/html":[
       "<pre>BCHIP13_a_W99  BCHIP13_b_W99\n",
       "1.0            1.0              2545\n",
       "3.0            3.0              1300\n",
       "1.0            3.0               514\n",
       "3.0            1.0               208\n",
       "2.0            2.0               165\n",
       "               1.0                96\n",
       "1.0            2.0                88\n",
       "2.0            3.0                57\n",
       "3.0            2.0                37\n",
       "dtype: int64<\/pre>"
      ]
     },
     "metadata":{
      
     },
     "output_type":"display_data"
    }
   ],
   "metadata":{
    "datalore":{
     "node_id":"C3PspaIhPxehxSrpDQAy4m",
     "type":"CODE",
     "hide_input_from_viewers":true,
     "hide_output_from_viewers":true
    }
   }
  },
  {
   "cell_type":"code",
   "source":[
    "thirteen_df.head()"
   ],
   "execution_count":33,
   "outputs":[
    {
     "data":{
      "text\/html":[
       "<div>\n",
       "<style scoped>\n",
       "    .dataframe tbody tr th:only-of-type {\n",
       "        vertical-align: middle;\n",
       "    }\n",
       "\n",
       "    .dataframe tbody tr th {\n",
       "        vertical-align: top;\n",
       "    }\n",
       "\n",
       "    .dataframe thead th {\n",
       "        text-align: right;\n",
       "    }\n",
       "<\/style>\n",
       "<table border=\"1\" class=\"dataframe\">\n",
       "  <thead>\n",
       "    <tr style=\"text-align: right;\">\n",
       "      <th><\/th>\n",
       "      <th>BCHIP13_a_W99<\/th>\n",
       "      <th>BCHIP13_b_W99<\/th>\n",
       "    <\/tr>\n",
       "  <\/thead>\n",
       "  <tbody>\n",
       "    <tr>\n",
       "      <th>0<\/th>\n",
       "      <td>1.0<\/td>\n",
       "      <td>1.0<\/td>\n",
       "    <\/tr>\n",
       "    <tr>\n",
       "      <th>3<\/th>\n",
       "      <td>1.0<\/td>\n",
       "      <td>1.0<\/td>\n",
       "    <\/tr>\n",
       "    <tr>\n",
       "      <th>4<\/th>\n",
       "      <td>1.0<\/td>\n",
       "      <td>1.0<\/td>\n",
       "    <\/tr>\n",
       "    <tr>\n",
       "      <th>7<\/th>\n",
       "      <td>2.0<\/td>\n",
       "      <td>2.0<\/td>\n",
       "    <\/tr>\n",
       "    <tr>\n",
       "      <th>9<\/th>\n",
       "      <td>1.0<\/td>\n",
       "      <td>1.0<\/td>\n",
       "    <\/tr>\n",
       "  <\/tbody>\n",
       "<\/table>\n",
       "<\/div>"
      ]
     },
     "metadata":{
      
     },
     "output_type":"display_data"
    }
   ],
   "metadata":{
    "datalore":{
     "node_id":"DrWIioSEherqYFhI2C9aIP",
     "type":"CODE",
     "hide_input_from_viewers":true,
     "hide_output_from_viewers":true
    }
   }
  },
  {
   "cell_type":"code",
   "source":[
    "thirteen_df['BCHIP13_b_W99'].value_counts()"
   ],
   "execution_count":34,
   "outputs":[
    {
     "data":{
      "text\/html":[
       "<pre>1.0    2849\n",
       "3.0    1871\n",
       "2.0     290\n",
       "Name: BCHIP13_b_W99, dtype: int64<\/pre>"
      ]
     },
     "metadata":{
      
     },
     "output_type":"display_data"
    }
   ],
   "metadata":{
    "datalore":{
     "node_id":"IqKwohjmtzzt74vPOB858E",
     "type":"CODE",
     "hide_input_from_viewers":true,
     "hide_output_from_viewers":true
    }
   }
  },
  {
   "cell_type":"code",
   "source":[
    "# Create a figure with two subplots\n",
    "fig, axs = plt.subplots(1, 2, figsize=(15, 10))\n",
    "\n",
    "# Set super title\n",
    "fig.suptitle('What Affects the Overall Acceptability of Brain Chip Implants?', fontsize=20)\n",
    "\n",
    "# Iterate through each subplot and create a countplot for each column\n",
    "for i, col in enumerate(['BCHIP13_a_W99', 'BCHIP13_b_W99']):\n",
    "    # Creating a countplot of the column\n",
    "    ax = sns.countplot(data=thirteen_df, x=col, ax=axs[i])\n",
    "    \n",
    "    # Set axis labels and titles\n",
    "    ax.set_xlabel(\"\")\n",
    "    ax.set_ylabel(\"Count of Answers\", labelpad=20)\n",
    "    ax.set_title(col.replace('_W99', '').replace('BCHIP13_a', 'If It Can Be Turned It On and Off')\n",
    "                 .replace('BCHIP13_b', 'If It Can Be Installed Without Surgery'), fontsize=15, pad=20)\n",
    "    \n",
    "    # Put the xtick labels on the bars\n",
    "    for p, label in zip(ax.patches, ['Favorable', 'Unfavorable', 'Neutral']):\n",
    "        ax.annotate(format(p.get_height(), '.0f'), \n",
    "                    (p.get_x() + p.get_width() \/ 2., p.get_height()), \n",
    "                    ha='center', va='center', xytext=(0, 10), \n",
    "                    textcoords='offset points', size=15)\n",
    "        ax.annotate(label, (p.get_x() + p.get_width() \/ 2., p.get_y() + p.get_height() \/ 2.), \n",
    "                    ha='center', va='center', xytext=(0, 0), \n",
    "                    textcoords='offset points', rotation=0, size=12)\n",
    "        p.set_edgecolor('black')  # add edgecolor to bars for better visibility\n",
    "        p.set_linewidth(0.5)  # set width of edgecolor line\n",
    "        p.set_alpha(0.7)  # set transparency of bars\n",
    "        ax.set_xticks([])  # remove xticks\n",
    "        ax.set_xlabel('')  # remove xlabel\n",
    "        ax.tick_params(axis='x', labelsize=15)\n",
    "\n",
    "    # Removing gridlines\n",
    "    ax.grid(False)\n",
    "\n",
    "    # Set limit for y-axis\n",
    "    ax.set_ylim([0, 3500])\n",
    "\n",
    "# Remove y-axis on the second subplot\n",
    "axs[1].set_yticks([])\n",
    "axs[1].set_ylabel('')\n",
    "\n",
    "# Adjust spacing between subplots\n",
    "fig.tight_layout()\n",
    "\n",
    "plt.show()"
   ],
   "execution_count":35,
   "outputs":[
    {
     "data":{
      "image\/png":"[encoded data removed]"
     },
     "metadata":{
      "image\/png":{
       
      }
     },
     "output_type":"display_data"
    }
   ],
   "metadata":{
    "datalore":{
     "node_id":"yeKyOAEgLH8EVwqPLbbbXe",
     "type":"CODE",
     "hide_input_from_viewers":true,
     "hide_output_from_viewers":true
    }
   }
  },
  {
   "cell_type":"markdown",
   "source":[
    "### BCHIP14\n",
    "Question: Computer chip implants in the brain could be used for a number of purposes. Would you favor or oppose the use of computer chips implants in the brain for each of the following purposes?\n",
    "1. To treat age-related decline in mental abilities\n",
    "2. To allow increased movement for people who are paralyzed \n",
    "3. To make it possible for thoughts in the brain to search content on the internet without typing\n",
    "4. To translate thoughts in the brain, without speaking, into text on a screen\n",
    "\n",
    "Answers:\n",
    "1. Favor (1)\n",
    "2. Oppose (2)\n",
    "3. Not sure (3)"
   ],
   "attachments":{
    
   },
   "metadata":{
    "datalore":{
     "node_id":"OLdqoT3YzWRb47RaPK8VR8",
     "type":"MD",
     "hide_input_from_viewers":true,
     "hide_output_from_viewers":true
    }
   }
  },
  {
   "cell_type":"code",
   "source":[
    "# Filter dataframe by BCHIP14\n",
    "fourteen_cols = [col for col in chips_df.columns if col.startswith('BCHIP14')]\n",
    "fourteen_df = chips_df[fourteen_cols]\n",
    "\n",
    "# Remove instances of 99\n",
    "fourteen_df = fourteen_df[fourteen_df != 99].dropna()\n",
    "fourteen_df.value_counts()"
   ],
   "execution_count":36,
   "outputs":[
    {
     "data":{
      "text\/html":[
       "<pre>BCHIP14_a_W99  BCHIP14_b_W99  BCHIP14_c_W99  BCHIP14_d_W99\n",
       "1.0            1.0            1.0            1.0              976\n",
       "                              2.0            2.0              739\n",
       "                              3.0            3.0              605\n",
       "                                             1.0              329\n",
       "3.0            3.0            3.0            3.0              260\n",
       "                                                             ... \n",
       "1.0            2.0            3.0            2.0                1\n",
       "                              1.0            3.0                1\n",
       "2.0            1.0            1.0            3.0                1\n",
       "1.0            3.0            1.0            1.0                1\n",
       "2.0            2.0            1.0            3.0                1\n",
       "Length: 69, dtype: int64<\/pre>"
      ]
     },
     "metadata":{
      
     },
     "output_type":"display_data"
    }
   ],
   "metadata":{
    "datalore":{
     "node_id":"2Mk9NhwMmifpprbnnEvOqT",
     "type":"CODE",
     "hide_input_from_viewers":true,
     "hide_output_from_viewers":true
    }
   }
  },
  {
   "cell_type":"code",
   "source":[
    "fourteen_df.head()"
   ],
   "execution_count":37,
   "outputs":[
    {
     "data":{
      "text\/html":[
       "<div>\n",
       "<style scoped>\n",
       "    .dataframe tbody tr th:only-of-type {\n",
       "        vertical-align: middle;\n",
       "    }\n",
       "\n",
       "    .dataframe tbody tr th {\n",
       "        vertical-align: top;\n",
       "    }\n",
       "\n",
       "    .dataframe thead th {\n",
       "        text-align: right;\n",
       "    }\n",
       "<\/style>\n",
       "<table border=\"1\" class=\"dataframe\">\n",
       "  <thead>\n",
       "    <tr style=\"text-align: right;\">\n",
       "      <th><\/th>\n",
       "      <th>BCHIP14_a_W99<\/th>\n",
       "      <th>BCHIP14_b_W99<\/th>\n",
       "      <th>BCHIP14_c_W99<\/th>\n",
       "      <th>BCHIP14_d_W99<\/th>\n",
       "    <\/tr>\n",
       "  <\/thead>\n",
       "  <tbody>\n",
       "    <tr>\n",
       "      <th>0<\/th>\n",
       "      <td>1.0<\/td>\n",
       "      <td>1.0<\/td>\n",
       "      <td>2.0<\/td>\n",
       "      <td>3.0<\/td>\n",
       "    <\/tr>\n",
       "    <tr>\n",
       "      <th>3<\/th>\n",
       "      <td>1.0<\/td>\n",
       "      <td>1.0<\/td>\n",
       "      <td>1.0<\/td>\n",
       "      <td>1.0<\/td>\n",
       "    <\/tr>\n",
       "    <tr>\n",
       "      <th>4<\/th>\n",
       "      <td>1.0<\/td>\n",
       "      <td>1.0<\/td>\n",
       "      <td>2.0<\/td>\n",
       "      <td>2.0<\/td>\n",
       "    <\/tr>\n",
       "    <tr>\n",
       "      <th>7<\/th>\n",
       "      <td>2.0<\/td>\n",
       "      <td>3.0<\/td>\n",
       "      <td>2.0<\/td>\n",
       "      <td>2.0<\/td>\n",
       "    <\/tr>\n",
       "    <tr>\n",
       "      <th>9<\/th>\n",
       "      <td>1.0<\/td>\n",
       "      <td>1.0<\/td>\n",
       "      <td>2.0<\/td>\n",
       "      <td>2.0<\/td>\n",
       "    <\/tr>\n",
       "  <\/tbody>\n",
       "<\/table>\n",
       "<\/div>"
      ]
     },
     "metadata":{
      
     },
     "output_type":"display_data"
    }
   ],
   "metadata":{
    "datalore":{
     "node_id":"N1OXqzvyaUAsZPJ00hZ5Qc",
     "type":"CODE",
     "hide_input_from_viewers":true,
     "hide_output_from_viewers":true
    }
   }
  },
  {
   "cell_type":"code",
   "source":[
    "fourteen_df['BCHIP14_b_W99'].value_counts()"
   ],
   "execution_count":45,
   "outputs":[
    {
     "data":{
      "text\/html":[
       "<pre>1.0    4186\n",
       "3.0     546\n",
       "2.0     298\n",
       "Name: BCHIP14_b_W99, dtype: int64<\/pre>"
      ]
     },
     "metadata":{
      
     },
     "output_type":"display_data"
    }
   ],
   "metadata":{
    "datalore":{
     "node_id":"2LuIbpYQ4I7vDw4QNq5ik9",
     "type":"CODE",
     "hide_input_from_viewers":true,
     "hide_output_from_viewers":true
    }
   }
  },
  {
   "cell_type":"code",
   "source":[
    "# Create a figure with two subplots\n",
    "fig, axs = plt.subplots(1, 2, figsize=(15, 10))\n",
    "\n",
    "# Set super title\n",
    "fig.suptitle('Brain Chip Implants: Favorable or Unfavorable for Different Uses?', fontsize=20)\n",
    "\n",
    "# Iterate through each subplot and create a countplot for each column\n",
    "for i, col in enumerate(['BCHIP14_a_W99', 'BCHIP14_b_W99']):\n",
    "    # Creating a countplot of the column\n",
    "    ax = sns.countplot(data=fourteen_df, x=col, ax=axs[i])\n",
    "    \n",
    "    # Set axis labels and titles\n",
    "    ax.set_xlabel(\"\")\n",
    "    ax.set_ylabel(\"Count of Answers\", labelpad=20)\n",
    "    ax.set_title(col.replace('_W99', '').replace('BCHIP14_a', 'Fighting Cognitive Aging')\n",
    "                 .replace('BCHIP14_b', 'Enhancing Paralysis Mobility'), fontsize=15, pad=20)\n",
    "    \n",
    "    # Put the xtick labels on the bars\n",
    "    for p, label in zip(ax.patches, ['Favor', 'Oppose', 'Neutral']):\n",
    "        ax.annotate(format(p.get_height(), '.0f'), \n",
    "                    (p.get_x() + p.get_width() \/ 2., p.get_height()), \n",
    "                    ha='center', va='center', xytext=(0, 10), \n",
    "                    textcoords='offset points', size=15)\n",
    "        ax.annotate(label, (p.get_x() + p.get_width() \/ 2., p.get_y() + p.get_height() \/ 2.), \n",
    "                    ha='center', va='center', xytext=(0, 0), \n",
    "                    textcoords='offset points', rotation=0, size=12)\n",
    "        p.set_edgecolor('black')  # add edgecolor to bars for better visibility\n",
    "        p.set_linewidth(0.5)  # set width of edgecolor line\n",
    "        p.set_alpha(0.7)  # set transparency of bars\n",
    "        ax.set_xticks([])  # remove xticks\n",
    "        ax.set_xlabel('')  # remove xlabel\n",
    "        ax.tick_params(axis='x', labelsize=15)\n",
    "\n",
    "    # Removing gridlines\n",
    "    ax.grid(False)\n",
    "\n",
    "    # Set limit for y-axis\n",
    "    ax.set_ylim([0, 4500])\n",
    "\n",
    "# Remove y-axis on the second subplot\n",
    "axs[1].set_yticks([])\n",
    "axs[1].set_ylabel('')\n",
    "\n",
    "# Adjust spacing between subplots\n",
    "fig.tight_layout()\n",
    "\n",
    "plt.show()"
   ],
   "execution_count":51,
   "outputs":[
    {
     "data":{
      "image\/png":"[encoded data removed]"
     },
     "metadata":{
      "image\/png":{
       
      }
     },
     "output_type":"display_data"
    }
   ],
   "metadata":{
    "datalore":{
     "node_id":"wpzitHFvpgFwgHp2a1g8AQ",
     "type":"CODE",
     "hide_input_from_viewers":true,
     "hide_output_from_viewers":true
    }
   }
  },
  {
   "cell_type":"code",
   "source":[
    "fourteen_df['BCHIP14_d_W99'].value_counts()"
   ],
   "execution_count":49,
   "outputs":[
    {
     "data":{
      "text\/html":[
       "<pre>2.0    1747\n",
       "1.0    1695\n",
       "3.0    1588\n",
       "Name: BCHIP14_d_W99, dtype: int64<\/pre>"
      ]
     },
     "metadata":{
      
     },
     "output_type":"display_data"
    }
   ],
   "metadata":{
    "datalore":{
     "node_id":"8yGLmhiJdmJTMOSPreFp47",
     "type":"CODE",
     "hide_input_from_viewers":true,
     "hide_output_from_viewers":true
    }
   }
  },
  {
   "cell_type":"code",
   "source":[
    "# Create a figure with two subplots\n",
    "fig, axs = plt.subplots(1, 2, figsize=(15, 10))\n",
    "\n",
    "# Set super title\n",
    "fig.suptitle('Brain Chip Implants: Favorable or Unfavorable for Different Uses?', fontsize=20)\n",
    "\n",
    "# Iterate through each subplot and create a countplot for each column\n",
    "for i, col in enumerate(['BCHIP14_c_W99', 'BCHIP14_d_W99']):\n",
    "    # Creating a countplot of the column\n",
    "    ax = sns.countplot(data=fourteen_df, x=col, ax=axs[i])\n",
    "    \n",
    "    # Set axis labels and titles\n",
    "    ax.set_xlabel(\"\")\n",
    "    ax.set_ylabel(\"Count of Answers\", labelpad=20)\n",
    "    ax.set_title(col.replace('_W99', '').replace('BCHIP14_c', 'Brain-Based Internet Search')\n",
    "                 .replace('BCHIP14_d', 'Mind-to-Screen Text'), fontsize=15, pad=20)\n",
    "    \n",
    "    # Put the xtick labels on the bars\n",
    "    for p, label in zip(ax.patches, ['Favor', 'Oppose', 'Neutral']):\n",
    "        ax.annotate(format(p.get_height(), '.0f'), \n",
    "                    (p.get_x() + p.get_width() \/ 2., p.get_height()), \n",
    "                    ha='center', va='center', xytext=(0, 10), \n",
    "                    textcoords='offset points', size=15)\n",
    "        ax.annotate(label, (p.get_x() + p.get_width() \/ 2., p.get_y() + p.get_height() \/ 2.), \n",
    "                    ha='center', va='center', xytext=(0, 0), \n",
    "                    textcoords='offset points', rotation=0, size=12)\n",
    "        p.set_edgecolor('black')  # add edgecolor to bars for better visibility\n",
    "        p.set_linewidth(0.5)  # set width of edgecolor line\n",
    "        p.set_alpha(0.7)  # set transparency of bars\n",
    "        ax.set_xticks([])  # remove xticks\n",
    "        ax.set_xlabel('')  # remove xlabel\n",
    "        ax.tick_params(axis='x', labelsize=15)\n",
    "\n",
    "    # Removing gridlines\n",
    "    ax.grid(False)\n",
    "\n",
    "    # Set limit for y-axis\n",
    "    ax.set_ylim([0, 4500])\n",
    "\n",
    "# Remove y-axis on the second subplot\n",
    "axs[1].set_yticks([])\n",
    "axs[1].set_ylabel('')\n",
    "\n",
    "# Adjust spacing between subplots\n",
    "fig.tight_layout()\n",
    "\n",
    "plt.show()"
   ],
   "execution_count":50,
   "outputs":[
    {
     "data":{
      "image\/png":"[encoded data removed]"
     },
     "metadata":{
      "image\/png":{
       
      }
     },
     "output_type":"display_data"
    }
   ],
   "metadata":{
    "datalore":{
     "node_id":"OxbKC96cwYjnrPsYWA1ZLy",
     "type":"CODE",
     "hide_input_from_viewers":true,
     "hide_output_from_viewers":true
    }
   }
  },
  {
   "cell_type":"markdown",
   "source":[
    "## Results and Conclusions\n",
    "### Introduction\n",
    "The objective of this study was to explore public opinion on the use of AI for human enhancement, with a specific focus on attitudes towards microchip implants in the brain. In order to gain insights into the sentiments of the public, this study utilized survey results obtained from a Pew Research study on public sentiment toward artificial intelligence. The following questions were analyzed to understand public sentiment toward brain chip enhancement: BCHIP2, BCHIP3, BCHIP4, BCHIP5, BCHIP7, BCHIP8, BCHIP13, and BCHIP14. The results and conclusions of this study provide valuable insights into the general perceptions, concerns, and potential implications of brain enhancement technology.\n",
    "\n",
    "### Findings\n",
    "The question of whether widespread use of computer chip implants in the brain for faster and accurate information processing would be good or bad for society was posed in BCHIP2 question. Results showed that 2883 participants thought it would be a bad idea, 1580 were unsure, and only 615 thought it would be good. This indicates a predominantly negative sentiment towards brain chip enhancements with a leaning towards apathy, possibly due to concerns over privacy, ethics, manipulation and control, inequality, playing god, and a lack of general understanding. Technical individuals may also fear neurohacking.\n",
    "\n",
    "BCHIP3 asked if people would want a computer chip implant in their brain to process information faster and more accurately. 2552 definitely didn't want it, 1493 probably didn't want it, 719 probably did, and 276 definitely did. The mainly negative response could be due to fear of physical installation, biological concerns, and religious and philosophical beliefs against brain chip enhancements, regardless of potential benefits.\n",
    "\n",
    "BCHIP4 explores four potential scenarios that could happen if computer chip implants become widespread. The first scenario, where people become more productive, received the second most positive sentiment. The second scenario, where people use the enhancements before understanding them, received the most positive sentiment, possibly due to cynicism toward new technology and pressure to succeed. The third scenario, where the implants inspire inventive thinking, received the highest count of \"probably not\" due to the potential loss of individuality and unique ideas. The final scenario, where the implants limit diversity, received mixed responses possibly due to systemic racism and the lack of established classes on the topic.\n",
    "\n",
    "In response to BCHIP5, 65% of respondents showed positive sentiment towards the idea of using computer chip implants in the brain for self-improvement, while 35% believed it was crossing a line by meddling with nature. The negative sentiment towards the technology may be due to religious beliefs, fear of the unknown, concerns about inequality, or philosophical objections.\n",
    "\n",
    "BCHIP7 shows that the public is divided on how brain chip implants would impact judgment and decision making, with 2169 respondents saying it would have no effect, 1566 saying it would worsen them, and 1228 saying it would improve them. Many believe it would have no effect because the technology is not fully understood and there is hope for the ability to ignore the implant's suggestions.\n",
    "\n",
    "The majority of respondents (3083) from BCHIP8 believe that the widespread use of brain chip implants would increase income inequality in America, while 1422 respondents think it would decrease it, and 484 believe there would be no change. The reason for the belief that it would increase inequality may be due to the potential cost of the implant, which could create an unfair advantage for those with higher incomes. It could also make it easier for those with higher incomes to automate their jobs, and the use of the implant for monitoring behavior could lead to discrimination against those with lower incomes.\n",
    "\n",
    "In BCHIP13, respondents were asked about the acceptability of certain circumstances. 3147 respondents found it favorable if the implant could be turned on or off, 1545 were neutral, and 318 found it unfavorable. Meanwhile, 2849 respondents saw it as favorable if the implant could be installed without surgery, 1871 were neutral, and 290 found it unfavorable. Respondents tended toward neutrality when considering the circumstance of having a brain chip installed without surgery, possibly due to the risks associated with the procedure. Conversely, people were more comfortable with the idea of being able to control the chip, such as by being able to turn it on and off.\n",
    "\n",
    "BCHIP14 showed that the public generally favors the use of computer chip implants in the brain for fighting cognitive aging and enhancing paralysis mobility, while there is more opposition to using them for brain-based internet search and mind-to-screen text. The former are viewed as having potential societal benefits and improving quality of life for those with disabilities, while the latter are seen as invasive and risky.\n",
    "\n",
    "### Interpretations in Relation to the Objective\n",
    "The objective of the study was to explore public opinion on the use of AI for human enhancement, specifically investigating attitudes towards microchip implants in the brain. The data shows that the general public sentiment towards brain enhancement chips is primarily negative, with concerns about the potential risks and consequences of meddling with nature. However, if the focus is on the human-creator aspect of the chips, the sentiment is 65% positive. Additionally, people are more in favor of using brain enhancement chips to improve the quality of life for the disabled. The data also reveals mixed and negative sentiment towards the use of brain enhancement chips for non-essential purposes such as mind-to-screen text. It is notable that the public seems to view a future with brain enhancement chips in a more dystopian light, likely due to concerns about the potential negative consequences of such technology, as seen with previous technological advancements. "
   ],
   "attachments":{
    
   },
   "metadata":{
    "datalore":{
     "node_id":"f2pgqTYDLHp06LZi0l9bCP",
     "type":"MD",
     "hide_input_from_viewers":true,
     "hide_output_from_viewers":true
    }
   }
  },
  {
   "cell_type":"markdown",
   "source":[
    "## Limitations and Future Work\n",
    "### Limitations\n",
    "There are some limitations to this data analysis that need to be considered. The dataset was obtained from Pew Research, and while it is a reputable source, it is limited to a sample of the U.S. population, so the findings may not be generalizable to other populations around the world. Additionally, the wording of the questions may have been difficult to understand for some subsets of the population, which could affect the accuracy of the results. Another potential limitation is that the survey was lengthy, which may have caused some respondents to not answer all of the questions. Finally, non-response bias may have also affected the results, as those who chose not to respond to the survey may have different attitudes towards brain enhancement chips than those who did respond.\n",
    "\n",
    "### Suggestions for Future Research\n",
    "There are a few areas that future research on the topic of brain chip enhancements could focus on. First, it would be valuable to explore how different demographic groups view the use of brain chip enhancements. This could include examining how race, religion, and other factors may shape people's opinions. Another avenue for future research would be to conduct a world-wide survey to obtain a more comprehensive understanding of public sentiment on this issue. With a more diverse sample, researchers may be able to identify cultural factors that shape people's views on brain chip enhancements, which could be important for policymakers and other stakeholders to consider."
   ],
   "attachments":{
    
   },
   "metadata":{
    "datalore":{
     "node_id":"Bg48zcmmjUwUN0IOSs6Jyr",
     "type":"MD",
     "hide_input_from_viewers":true,
     "hide_output_from_viewers":true
    }
   }
  },
  {
   "cell_type":"markdown",
   "source":[
    "# Conclusion\n",
    "In conclusion, the public sentiment towards the use of AI for human enhancement, specifically microchip implants in the brain, is primarily negative. While the sentiment towards the creators of such chips is somewhat positive, the sentiment towards using them for enhancements that aren't necessary, such as mind-to-screen text, is mixed with a negative slant. However, people are more in favor of using brain enhancement chips to improve the quality of life for the disabled. It is interesting to note that Americans view a future with brain enhancement chips in a dystopian light, perhaps due to concerns about the invasive nature of such technology and potential loss of privacy. Future research could delve deeper into specific demographic sentiments and conduct a worldwide survey to provide a more comprehensive understanding of public opinion on this topic."
   ],
   "attachments":{
    
   },
   "metadata":{
    "datalore":{
     "node_id":"Bhf4mVtRTa3Y4wuNliJmtK",
     "type":"MD",
     "hide_input_from_viewers":true,
     "hide_output_from_viewers":true
    }
   }
  },
  {
   "cell_type":"markdown",
   "source":[
    "## References\n",
    "Jones, Booker. (March 7, 2023). *\"Workday Inc.'s Artificial Intelligence Allegedly Discriminates Against Blacks.\"* Black Enterprise. Retrieved from https:\/\/www.blackenterprise.com\/workday-inc-s-artificial-intelligence-allegedly-discriminates-against-blacks\/.\n",
    "\n",
    "Waddell, Kaveh. (September 21, 2019) *“Brains are the last frontier of privacy.”* Axios. Retrieved from https:\/\/www.axios.com\/2019\/09\/21\/brain-privacy-neuralink-brain-computer-interface.\n",
    "\n",
    "Mackenzie, J. Ruairi. (August 31, 2021) *“Privacy in the Brain: The Ethics of Neurotechnology”*. Technology Networks. Retrieved from https:\/\/www.technologynetworks.com\/neuroscience\/articles\/privacy-in-the-brain-the-ethics-of-neurotechnology-353075"
   ],
   "attachments":{
    
   },
   "metadata":{
    "datalore":{
     "node_id":"efeX8RbDu1N6ohfEh0nrMv",
     "type":"MD",
     "hide_input_from_viewers":true,
     "hide_output_from_viewers":true
    }
   }
  }
 ],
 "metadata":{
  "kernelspec":{
   "display_name":"Python",
   "language":"python",
   "name":"python"
  },
  "datalore":{
   "computation_mode":"JUPYTER",
   "package_manager":"pip",
   "base_environment":"default",
   "packages":[
    
   ],
   "report_row_ids":[
    
   ],
   "version":3
  }
 },
 "nbformat":4,
 "nbformat_minor":4
}